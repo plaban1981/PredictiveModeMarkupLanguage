{
  "nbformat": 4,
  "nbformat_minor": 0,
  "metadata": {
    "colab": {
      "name": "PMML.ipynb",
      "provenance": [],
      "collapsed_sections": [],
      "toc_visible": true,
      "authorship_tag": "ABX9TyO0C1eG7rcRw/lXDBA3Uis4",
      "include_colab_link": true
    },
    "kernelspec": {
      "name": "python3",
      "display_name": "Python 3"
    },
    "widgets": {
      "application/vnd.jupyter.widget-state+json": {
        "b143e261486045dabf4497048e70ff7a": {
          "model_module": "@jupyter-widgets/controls",
          "model_name": "HBoxModel",
          "state": {
            "_view_name": "HBoxView",
            "_dom_classes": [],
            "_model_name": "HBoxModel",
            "_view_module": "@jupyter-widgets/controls",
            "_model_module_version": "1.5.0",
            "_view_count": null,
            "_view_module_version": "1.5.0",
            "box_style": "",
            "layout": "IPY_MODEL_45eac2692e854c44a675f727d91272cb",
            "_model_module": "@jupyter-widgets/controls",
            "children": [
              "IPY_MODEL_6a96ed405c434545a6edad06e20b199e",
              "IPY_MODEL_6cd5349eb65e4655b633a8ae8b19c0e8"
            ]
          }
        },
        "45eac2692e854c44a675f727d91272cb": {
          "model_module": "@jupyter-widgets/base",
          "model_name": "LayoutModel",
          "state": {
            "_view_name": "LayoutView",
            "grid_template_rows": null,
            "right": null,
            "justify_content": null,
            "_view_module": "@jupyter-widgets/base",
            "overflow": null,
            "_model_module_version": "1.2.0",
            "_view_count": null,
            "flex_flow": null,
            "width": null,
            "min_width": null,
            "border": null,
            "align_items": null,
            "bottom": null,
            "_model_module": "@jupyter-widgets/base",
            "top": null,
            "grid_column": null,
            "overflow_y": null,
            "overflow_x": null,
            "grid_auto_flow": null,
            "grid_area": null,
            "grid_template_columns": null,
            "flex": null,
            "_model_name": "LayoutModel",
            "justify_items": null,
            "grid_row": null,
            "max_height": null,
            "align_content": null,
            "visibility": null,
            "align_self": null,
            "height": null,
            "min_height": null,
            "padding": null,
            "grid_auto_rows": null,
            "grid_gap": null,
            "max_width": null,
            "order": null,
            "_view_module_version": "1.2.0",
            "grid_template_areas": null,
            "object_position": null,
            "object_fit": null,
            "grid_auto_columns": null,
            "margin": null,
            "display": null,
            "left": null
          }
        },
        "6a96ed405c434545a6edad06e20b199e": {
          "model_module": "@jupyter-widgets/controls",
          "model_name": "IntProgressModel",
          "state": {
            "_view_name": "ProgressView",
            "style": "IPY_MODEL_1e250532f0ad4c649966572d23cc5423",
            "_dom_classes": [],
            "description": "Optimization Progress: 100%",
            "_model_name": "IntProgressModel",
            "bar_style": "",
            "max": 44,
            "_view_module": "@jupyter-widgets/controls",
            "_model_module_version": "1.5.0",
            "value": 44,
            "_view_count": null,
            "_view_module_version": "1.5.0",
            "orientation": "horizontal",
            "min": 0,
            "description_tooltip": null,
            "_model_module": "@jupyter-widgets/controls",
            "layout": "IPY_MODEL_dce65c63590641a9aae5504198d3e544"
          }
        },
        "6cd5349eb65e4655b633a8ae8b19c0e8": {
          "model_module": "@jupyter-widgets/controls",
          "model_name": "HTMLModel",
          "state": {
            "_view_name": "HTMLView",
            "style": "IPY_MODEL_417cc6309bc648fc8d92b8bbc5b307db",
            "_dom_classes": [],
            "description": "",
            "_model_name": "HTMLModel",
            "placeholder": "​",
            "_view_module": "@jupyter-widgets/controls",
            "_model_module_version": "1.5.0",
            "value": " 44/44 [00:14&lt;00:00,  1.94pipeline/s]",
            "_view_count": null,
            "_view_module_version": "1.5.0",
            "description_tooltip": null,
            "_model_module": "@jupyter-widgets/controls",
            "layout": "IPY_MODEL_73072ae03acc4ddcbaed1ea0445b63f3"
          }
        },
        "1e250532f0ad4c649966572d23cc5423": {
          "model_module": "@jupyter-widgets/controls",
          "model_name": "ProgressStyleModel",
          "state": {
            "_view_name": "StyleView",
            "_model_name": "ProgressStyleModel",
            "description_width": "initial",
            "_view_module": "@jupyter-widgets/base",
            "_model_module_version": "1.5.0",
            "_view_count": null,
            "_view_module_version": "1.2.0",
            "bar_color": null,
            "_model_module": "@jupyter-widgets/controls"
          }
        },
        "dce65c63590641a9aae5504198d3e544": {
          "model_module": "@jupyter-widgets/base",
          "model_name": "LayoutModel",
          "state": {
            "_view_name": "LayoutView",
            "grid_template_rows": null,
            "right": null,
            "justify_content": null,
            "_view_module": "@jupyter-widgets/base",
            "overflow": null,
            "_model_module_version": "1.2.0",
            "_view_count": null,
            "flex_flow": null,
            "width": null,
            "min_width": null,
            "border": null,
            "align_items": null,
            "bottom": null,
            "_model_module": "@jupyter-widgets/base",
            "top": null,
            "grid_column": null,
            "overflow_y": null,
            "overflow_x": null,
            "grid_auto_flow": null,
            "grid_area": null,
            "grid_template_columns": null,
            "flex": null,
            "_model_name": "LayoutModel",
            "justify_items": null,
            "grid_row": null,
            "max_height": null,
            "align_content": null,
            "visibility": null,
            "align_self": null,
            "height": null,
            "min_height": null,
            "padding": null,
            "grid_auto_rows": null,
            "grid_gap": null,
            "max_width": null,
            "order": null,
            "_view_module_version": "1.2.0",
            "grid_template_areas": null,
            "object_position": null,
            "object_fit": null,
            "grid_auto_columns": null,
            "margin": null,
            "display": null,
            "left": null
          }
        },
        "417cc6309bc648fc8d92b8bbc5b307db": {
          "model_module": "@jupyter-widgets/controls",
          "model_name": "DescriptionStyleModel",
          "state": {
            "_view_name": "StyleView",
            "_model_name": "DescriptionStyleModel",
            "description_width": "",
            "_view_module": "@jupyter-widgets/base",
            "_model_module_version": "1.5.0",
            "_view_count": null,
            "_view_module_version": "1.2.0",
            "_model_module": "@jupyter-widgets/controls"
          }
        },
        "73072ae03acc4ddcbaed1ea0445b63f3": {
          "model_module": "@jupyter-widgets/base",
          "model_name": "LayoutModel",
          "state": {
            "_view_name": "LayoutView",
            "grid_template_rows": null,
            "right": null,
            "justify_content": null,
            "_view_module": "@jupyter-widgets/base",
            "overflow": null,
            "_model_module_version": "1.2.0",
            "_view_count": null,
            "flex_flow": null,
            "width": null,
            "min_width": null,
            "border": null,
            "align_items": null,
            "bottom": null,
            "_model_module": "@jupyter-widgets/base",
            "top": null,
            "grid_column": null,
            "overflow_y": null,
            "overflow_x": null,
            "grid_auto_flow": null,
            "grid_area": null,
            "grid_template_columns": null,
            "flex": null,
            "_model_name": "LayoutModel",
            "justify_items": null,
            "grid_row": null,
            "max_height": null,
            "align_content": null,
            "visibility": null,
            "align_self": null,
            "height": null,
            "min_height": null,
            "padding": null,
            "grid_auto_rows": null,
            "grid_gap": null,
            "max_width": null,
            "order": null,
            "_view_module_version": "1.2.0",
            "grid_template_areas": null,
            "object_position": null,
            "object_fit": null,
            "grid_auto_columns": null,
            "margin": null,
            "display": null,
            "left": null
          }
        }
      }
    }
  },
  "cells": [
    {
      "cell_type": "markdown",
      "metadata": {
        "id": "view-in-github",
        "colab_type": "text"
      },
      "source": [
        "<a href=\"https://colab.research.google.com/github/plaban1981/PredictiveModeMarkupLanguage/blob/master/PMML.ipynb\" target=\"_parent\"><img src=\"https://colab.research.google.com/assets/colab-badge.svg\" alt=\"Open In Colab\"/></a>"
      ]
    },
    {
      "cell_type": "markdown",
      "metadata": {
        "id": "nkcvIOXyREY0",
        "colab_type": "text"
      },
      "source": [
        "## Putting Scikit-Learn models into production with PMML"
      ]
    },
    {
      "cell_type": "markdown",
      "metadata": {
        "id": "u97cA83dRRRz",
        "colab_type": "text"
      },
      "source": [
        "Using Sklearn2pmml from pipelining to modeling to production\n",
        "\n",
        "\n",
        "https://medium.com/@xiaowei_6531/putting-sci-kit-learn-models-into-production-with-pmml-1d17b5fc8123"
      ]
    },
    {
      "cell_type": "markdown",
      "metadata": {
        "id": "VE4USevZReC7",
        "colab_type": "text"
      },
      "source": [
        "PMML stands for “Predictive Model Markup Language”. It is an XML based file format that serves as a intermediary between different programming languages. A model could be created in Python/R, saved as an XML file, and then be handed off to a software engineer for production."
      ]
    },
    {
      "cell_type": "markdown",
      "metadata": {
        "id": "2K2eVN9xUszM",
        "colab_type": "text"
      },
      "source": [
        "There exists a sklearn2pmml package that can automatically package your sklearn data pipelines that feed into your model along with the model itself into the same PMML file!"
      ]
    },
    {
      "cell_type": "markdown",
      "metadata": {
        "id": "bv7zk749Wkeq",
        "colab_type": "text"
      },
      "source": [
        "Sklearn data prep and grid search pipeline that ends in the creation of a PMML file. \n",
        "\n",
        "**Note that the entire sklearn pipeline is saved in the PMML file not just the model itself**"
      ]
    },
    {
      "cell_type": "code",
      "metadata": {
        "id": "Svdisv6VQ-jp",
        "colab_type": "code",
        "outputId": "d53d9829-5f21-4bc6-f5b2-22907605a48d",
        "colab": {
          "base_uri": "https://localhost:8080/",
          "height": 383
        }
      },
      "source": [
        "!pip install sklearn2pmml"
      ],
      "execution_count": 5,
      "outputs": [
        {
          "output_type": "stream",
          "text": [
            "Collecting sklearn2pmml\n",
            "\u001b[?25l  Downloading https://files.pythonhosted.org/packages/29/13/921daa2a87e19dc7579865f0990984b66cd9ad521bb43218d165a3d885d8/sklearn2pmml-0.55.4.tar.gz (5.6MB)\n",
            "\u001b[K     |████████████████████████████████| 5.6MB 2.8MB/s \n",
            "\u001b[?25hRequirement already satisfied: joblib>=0.13.0 in /usr/local/lib/python3.6/dist-packages (from sklearn2pmml) (0.14.1)\n",
            "Requirement already satisfied: scikit-learn>=0.18.0 in /usr/local/lib/python3.6/dist-packages (from sklearn2pmml) (0.22.2.post1)\n",
            "Requirement already satisfied: sklearn-pandas>=0.0.10 in /usr/local/lib/python3.6/dist-packages (from sklearn2pmml) (1.8.0)\n",
            "Requirement already satisfied: numpy>=1.11.0 in /usr/local/lib/python3.6/dist-packages (from scikit-learn>=0.18.0->sklearn2pmml) (1.18.2)\n",
            "Requirement already satisfied: scipy>=0.17.0 in /usr/local/lib/python3.6/dist-packages (from scikit-learn>=0.18.0->sklearn2pmml) (1.4.1)\n",
            "Requirement already satisfied: pandas>=0.11.0 in /usr/local/lib/python3.6/dist-packages (from sklearn-pandas>=0.0.10->sklearn2pmml) (1.0.3)\n",
            "Requirement already satisfied: pytz>=2017.2 in /usr/local/lib/python3.6/dist-packages (from pandas>=0.11.0->sklearn-pandas>=0.0.10->sklearn2pmml) (2018.9)\n",
            "Requirement already satisfied: python-dateutil>=2.6.1 in /usr/local/lib/python3.6/dist-packages (from pandas>=0.11.0->sklearn-pandas>=0.0.10->sklearn2pmml) (2.8.1)\n",
            "Requirement already satisfied: six>=1.5 in /usr/local/lib/python3.6/dist-packages (from python-dateutil>=2.6.1->pandas>=0.11.0->sklearn-pandas>=0.0.10->sklearn2pmml) (1.12.0)\n",
            "Building wheels for collected packages: sklearn2pmml\n",
            "  Building wheel for sklearn2pmml (setup.py) ... \u001b[?25l\u001b[?25hdone\n",
            "  Created wheel for sklearn2pmml: filename=sklearn2pmml-0.55.4-cp36-none-any.whl size=5639646 sha256=ef9cb819b4d4610b90e1f312fefa89b5cab42ee0d500607e1d64c0fbc2c124b2\n",
            "  Stored in directory: /root/.cache/pip/wheels/09/59/21/0d21d626166a52114f645f7eb675b51d947a32811f6e5198bf\n",
            "Successfully built sklearn2pmml\n",
            "Installing collected packages: sklearn2pmml\n",
            "Successfully installed sklearn2pmml-0.55.4\n"
          ],
          "name": "stdout"
        }
      ]
    },
    {
      "cell_type": "markdown",
      "metadata": {
        "id": "vllCupiLjlGC",
        "colab_type": "text"
      },
      "source": [
        "https://github.com/xiaowei1234/Sklearn-PMML/blob/master/sklearn_to_pmml.ipynb"
      ]
    },
    {
      "cell_type": "markdown",
      "metadata": {
        "id": "gs4vqyWRmoFg",
        "colab_type": "text"
      },
      "source": [
        "https://www.slideshare.net/VilluRuusmann/converting-scikitlearn-to-pmml?from_action=save"
      ]
    },
    {
      "cell_type": "code",
      "metadata": {
        "id": "P7CKMHH0jXMZ",
        "colab_type": "code",
        "colab": {}
      },
      "source": [
        "from sklearn2pmml import PMMLPipeline\n",
        "from sklearn2pmml import Pipeline\n",
        "from sklearn2pmml import sklearn2pmml\n",
        "\n",
        "from sklearn.linear_model import SGDClassifier\n",
        "from sklearn.linear_model import LogisticRegression\n",
        "from sklearn.model_selection import GridSearchCV\n",
        "from sklearn.metrics import roc_auc_score, log_loss\n",
        "from sklearn.impute import SimpleImputer\n",
        "from sklearn.preprocessing import StandardScaler\n",
        "\n",
        "import pandas as pd"
      ],
      "execution_count": 0,
      "outputs": []
    },
    {
      "cell_type": "code",
      "metadata": {
        "id": "aTARakPUlhV-",
        "colab_type": "code",
        "outputId": "9c752ead-d3a2-49ad-da5d-f77888d763b5",
        "colab": {
          "base_uri": "https://localhost:8080/",
          "height": 72
        }
      },
      "source": [
        "from sklearn.datasets import load_iris\n",
        "data = load_iris()\n",
        "X = data.data\n",
        "Y = data.target\n",
        "print(data.keys())\n",
        "#iris_df = pandas.read_csv(\"Iris.csv\") \n",
        "\n",
        "print(X.shape)\n",
        "print(Y.shape)"
      ],
      "execution_count": 1,
      "outputs": [
        {
          "output_type": "stream",
          "text": [
            "dict_keys(['data', 'target', 'target_names', 'DESCR', 'feature_names', 'filename'])\n",
            "(150, 4)\n",
            "(150,)\n"
          ],
          "name": "stdout"
        }
      ]
    },
    {
      "cell_type": "code",
      "metadata": {
        "id": "ScMVbbFSuClD",
        "colab_type": "code",
        "colab": {
          "base_uri": "https://localhost:8080/",
          "height": 1000
        },
        "outputId": "13c137dc-62cc-4047-d5b6-1133981c42f9"
      },
      "source": [
        "print(data.DESCR)"
      ],
      "execution_count": 90,
      "outputs": [
        {
          "output_type": "stream",
          "text": [
            ".. _iris_dataset:\n",
            "\n",
            "Iris plants dataset\n",
            "--------------------\n",
            "\n",
            "**Data Set Characteristics:**\n",
            "\n",
            "    :Number of Instances: 150 (50 in each of three classes)\n",
            "    :Number of Attributes: 4 numeric, predictive attributes and the class\n",
            "    :Attribute Information:\n",
            "        - sepal length in cm\n",
            "        - sepal width in cm\n",
            "        - petal length in cm\n",
            "        - petal width in cm\n",
            "        - class:\n",
            "                - Iris-Setosa\n",
            "                - Iris-Versicolour\n",
            "                - Iris-Virginica\n",
            "                \n",
            "    :Summary Statistics:\n",
            "\n",
            "    ============== ==== ==== ======= ===== ====================\n",
            "                    Min  Max   Mean    SD   Class Correlation\n",
            "    ============== ==== ==== ======= ===== ====================\n",
            "    sepal length:   4.3  7.9   5.84   0.83    0.7826\n",
            "    sepal width:    2.0  4.4   3.05   0.43   -0.4194\n",
            "    petal length:   1.0  6.9   3.76   1.76    0.9490  (high!)\n",
            "    petal width:    0.1  2.5   1.20   0.76    0.9565  (high!)\n",
            "    ============== ==== ==== ======= ===== ====================\n",
            "\n",
            "    :Missing Attribute Values: None\n",
            "    :Class Distribution: 33.3% for each of 3 classes.\n",
            "    :Creator: R.A. Fisher\n",
            "    :Donor: Michael Marshall (MARSHALL%PLU@io.arc.nasa.gov)\n",
            "    :Date: July, 1988\n",
            "\n",
            "The famous Iris database, first used by Sir R.A. Fisher. The dataset is taken\n",
            "from Fisher's paper. Note that it's the same as in R, but not as in the UCI\n",
            "Machine Learning Repository, which has two wrong data points.\n",
            "\n",
            "This is perhaps the best known database to be found in the\n",
            "pattern recognition literature.  Fisher's paper is a classic in the field and\n",
            "is referenced frequently to this day.  (See Duda & Hart, for example.)  The\n",
            "data set contains 3 classes of 50 instances each, where each class refers to a\n",
            "type of iris plant.  One class is linearly separable from the other 2; the\n",
            "latter are NOT linearly separable from each other.\n",
            "\n",
            ".. topic:: References\n",
            "\n",
            "   - Fisher, R.A. \"The use of multiple measurements in taxonomic problems\"\n",
            "     Annual Eugenics, 7, Part II, 179-188 (1936); also in \"Contributions to\n",
            "     Mathematical Statistics\" (John Wiley, NY, 1950).\n",
            "   - Duda, R.O., & Hart, P.E. (1973) Pattern Classification and Scene Analysis.\n",
            "     (Q327.D83) John Wiley & Sons.  ISBN 0-471-22361-1.  See page 218.\n",
            "   - Dasarathy, B.V. (1980) \"Nosing Around the Neighborhood: A New System\n",
            "     Structure and Classification Rule for Recognition in Partially Exposed\n",
            "     Environments\".  IEEE Transactions on Pattern Analysis and Machine\n",
            "     Intelligence, Vol. PAMI-2, No. 1, 67-71.\n",
            "   - Gates, G.W. (1972) \"The Reduced Nearest Neighbor Rule\".  IEEE Transactions\n",
            "     on Information Theory, May 1972, 431-433.\n",
            "   - See also: 1988 MLC Proceedings, 54-64.  Cheeseman et al\"s AUTOCLASS II\n",
            "     conceptual clustering system finds 3 classes in the data.\n",
            "   - Many, many more ...\n"
          ],
          "name": "stdout"
        }
      ]
    },
    {
      "cell_type": "code",
      "metadata": {
        "id": "RhUSfemHObW8",
        "colab_type": "code",
        "colab": {
          "base_uri": "https://localhost:8080/",
          "height": 54
        },
        "outputId": "c7609355-b0ff-4f65-e36b-937b02f8d370"
      },
      "source": [
        "cols = data.feature_names\n",
        "labels = data.target_names\n",
        "print(cols)\n",
        "print(labels)"
      ],
      "execution_count": 3,
      "outputs": [
        {
          "output_type": "stream",
          "text": [
            "['sepal length (cm)', 'sepal width (cm)', 'petal length (cm)', 'petal width (cm)']\n",
            "['setosa' 'versicolor' 'virginica']\n"
          ],
          "name": "stdout"
        }
      ]
    },
    {
      "cell_type": "code",
      "metadata": {
        "id": "Ln6_BbaNVilm",
        "colab_type": "code",
        "colab": {}
      },
      "source": [
        "from sklearn.model_selection import train_test_split\n",
        "X_train,X_test,y_train,y_test = train_test_split(X,Y,test_size=0.2,random_state=1)"
      ],
      "execution_count": 0,
      "outputs": []
    },
    {
      "cell_type": "code",
      "metadata": {
        "id": "Ab3wX3kHOppB",
        "colab_type": "code",
        "colab": {}
      },
      "source": [
        "pl = Pipeline([\n",
        "    ('impute', SimpleImputer(strategy='median'))\n",
        "    , ('standardize', StandardScaler())\n",
        "    , ('clf', SGDClassifier())\n",
        "])"
      ],
      "execution_count": 0,
      "outputs": []
    },
    {
      "cell_type": "code",
      "metadata": {
        "id": "f1036_bDVfJs",
        "colab_type": "code",
        "colab": {
          "base_uri": "https://localhost:8080/",
          "height": 326
        },
        "outputId": "0bde7323-67d9-4af2-8cd9-0768e6dbf643"
      },
      "source": [
        "pl.fit(X_train,y_train)"
      ],
      "execution_count": 30,
      "outputs": [
        {
          "output_type": "execute_result",
          "data": {
            "text/plain": [
              "Pipeline(memory=None,\n",
              "         steps=[('impute',\n",
              "                 SimpleImputer(add_indicator=False, copy=True, fill_value=None,\n",
              "                               missing_values=nan, strategy='median',\n",
              "                               verbose=0)),\n",
              "                ('standardize',\n",
              "                 StandardScaler(copy=True, with_mean=True, with_std=True)),\n",
              "                ('clf',\n",
              "                 SGDClassifier(alpha=0.0001, average=False, class_weight=None,\n",
              "                               early_stopping=False, epsilon=0.1, eta0=0.0,\n",
              "                               fit_intercept=True, l1_ratio=0.15,\n",
              "                               learning_rate='optimal', loss='hinge',\n",
              "                               max_iter=1000, n_iter_no_change=5, n_jobs=None,\n",
              "                               penalty='l2', power_t=0.5, random_state=None,\n",
              "                               shuffle=True, tol=0.001, validation_fraction=0.1,\n",
              "                               verbose=0, warm_start=False))],\n",
              "         verbose=False)"
            ]
          },
          "metadata": {
            "tags": []
          },
          "execution_count": 30
        }
      ]
    },
    {
      "cell_type": "code",
      "metadata": {
        "id": "L1M1CknbWDit",
        "colab_type": "code",
        "colab": {}
      },
      "source": [
        "y_pred = pl.predict(X_test)"
      ],
      "execution_count": 0,
      "outputs": []
    },
    {
      "cell_type": "code",
      "metadata": {
        "id": "4g_L63FwWIx8",
        "colab_type": "code",
        "colab": {
          "base_uri": "https://localhost:8080/",
          "height": 35
        },
        "outputId": "7dc3a4f7-bdf4-40fe-a4b0-4e270a802d7b"
      },
      "source": [
        "from sklearn.metrics import accuracy_score,confusion_matrix\n",
        "accuracy_score(y_test,y_pred)"
      ],
      "execution_count": 34,
      "outputs": [
        {
          "output_type": "execute_result",
          "data": {
            "text/plain": [
              "0.9666666666666667"
            ]
          },
          "metadata": {
            "tags": []
          },
          "execution_count": 34
        }
      ]
    },
    {
      "cell_type": "code",
      "metadata": {
        "id": "myxZm__XWXCr",
        "colab_type": "code",
        "colab": {
          "base_uri": "https://localhost:8080/",
          "height": 72
        },
        "outputId": "70ab6f61-f610-40c0-cdaf-89fd21367284"
      },
      "source": [
        "confusion_matrix(y_test,y_pred)"
      ],
      "execution_count": 35,
      "outputs": [
        {
          "output_type": "execute_result",
          "data": {
            "text/plain": [
              "array([[11,  0,  0],\n",
              "       [ 0, 12,  1],\n",
              "       [ 0,  0,  6]])"
            ]
          },
          "metadata": {
            "tags": []
          },
          "execution_count": 35
        }
      ]
    },
    {
      "cell_type": "code",
      "metadata": {
        "id": "JZN-pKG2Wgzw",
        "colab_type": "code",
        "colab": {
          "base_uri": "https://localhost:8080/",
          "height": 287
        },
        "outputId": "6a06895f-f2ec-4dfd-a0c4-51e7f8abacf7"
      },
      "source": [
        "import seaborn as sns\n",
        "sns.heatmap(confusion_matrix(y_test,y_pred),annot=True,fmt='.2g')"
      ],
      "execution_count": 37,
      "outputs": [
        {
          "output_type": "execute_result",
          "data": {
            "text/plain": [
              "<matplotlib.axes._subplots.AxesSubplot at 0x7facf1b3bb70>"
            ]
          },
          "metadata": {
            "tags": []
          },
          "execution_count": 37
        },
        {
          "output_type": "display_data",
          "data": {
            "image/png": "[encoded data removed]",
            "text/plain": [
              "<Figure size 432x288 with 2 Axes>"
            ]
          },
          "metadata": {
            "tags": []
          }
        }
      ]
    },
    {
      "cell_type": "markdown",
      "metadata": {
        "id": "qqepKOofW8qd",
        "colab_type": "text"
      },
      "source": [
        "## (J)PMML solution\n",
        "\n",
        "#### Predictive Model Markup Language\n",
        "\n",
        "A smart pipeline that collects supporting information about\n",
        "\"passed through\" features and label(s):\n",
        "\n",
        "● Name\n",
        "\n",
        "● Data type (eg. string, float, integer, boolean)\n",
        "\n",
        "● Operational type (eg. continuous, categorical, ordinal)\n",
        "\n",
        "● Domain of valid values\n",
        "\n",
        "● Missing and invalid value treatments"
      ]
    },
    {
      "cell_type": "code",
      "metadata": {
        "id": "bM4OsbUiX_LL",
        "colab_type": "code",
        "colab": {
          "base_uri": "https://localhost:8080/",
          "height": 237
        },
        "outputId": "f6c793f2-385e-47df-8383-568eddfbe64b"
      },
      "source": [
        "from sklearn2pmml import PMMLPipeline\n",
        "from sklearn2pmml import sklearn2pmml\n",
        "\n",
        "pipeline = PMMLPipeline([\n",
        "    ('impute', SimpleImputer(strategy='median'))\n",
        "    , ('standardize', StandardScaler())\n",
        "    , ('clf', SGDClassifier())\n",
        "])\n",
        "pipeline.fit(X,Y)"
      ],
      "execution_count": 40,
      "outputs": [
        {
          "output_type": "stream",
          "text": [
            "/usr/local/lib/python3.6/dist-packages/sklearn/base.py:197: FutureWarning: From version 0.24, get_params will raise an AttributeError if a parameter cannot be retrieved as an instance attribute. Previously it would return None.\n",
            "  FutureWarning)\n"
          ],
          "name": "stderr"
        },
        {
          "output_type": "execute_result",
          "data": {
            "text/plain": [
              "PMMLPipeline(steps=[('impute', SimpleImputer(add_indicator=False, copy=True, fill_value=None,\n",
              "              missing_values=nan, strategy='median', verbose=0)),\n",
              "       ('standardize', StandardScaler(copy=True, with_mean=True, with_std=True)),\n",
              "       ('clf', SGDClassifier(alpha=0.0001, average=False, class_weight=None,\n",
              "              early_stopping=False, epsilon=0.1, eta0=0.0, fit_intercept=True,\n",
              "              l1_ratio=0.15, learning_rate='optimal', loss='hinge',\n",
              "              max_iter=1000, n_iter_no_change=5, n_jobs=None, penalty='l2',\n",
              "              power_t=0.5, random_state=None, shuffle=True, tol=0.001,\n",
              "              validation_fraction=0.1, verbose=0, warm_start=False))])"
            ]
          },
          "metadata": {
            "tags": []
          },
          "execution_count": 40
        }
      ]
    },
    {
      "cell_type": "code",
      "metadata": {
        "id": "n7dT1uV2YPNh",
        "colab_type": "code",
        "colab": {}
      },
      "source": [
        "sklearn2pmml(pipeline, \"pipeline.pmml\")"
      ],
      "execution_count": 0,
      "outputs": []
    },
    {
      "cell_type": "code",
      "metadata": {
        "id": "WJW5ilIpdyUB",
        "colab_type": "code",
        "colab": {
          "base_uri": "https://localhost:8080/",
          "height": 35
        },
        "outputId": "8ef500d5-82a7-444f-8c4c-bd66c028c592"
      },
      "source": [
        "X.shape"
      ],
      "execution_count": 56,
      "outputs": [
        {
          "output_type": "execute_result",
          "data": {
            "text/plain": [
              "(150, 4)"
            ]
          },
          "metadata": {
            "tags": []
          },
          "execution_count": 56
        }
      ]
    },
    {
      "cell_type": "markdown",
      "metadata": {
        "id": "5J1dtDu4ZTQe",
        "colab_type": "text"
      },
      "source": [
        "## Making a PMML pipeline"
      ]
    },
    {
      "cell_type": "code",
      "metadata": {
        "id": "bKwmIXO4aBC8",
        "colab_type": "code",
        "colab": {
          "base_uri": "https://localhost:8080/",
          "height": 110
        },
        "outputId": "7294bcee-3f72-48eb-e127-5cc0dcc32ad5"
      },
      "source": [
        "from sklearn2pmml import make_pmml_pipeline,sklearn2pmml\n",
        "pipeline = PMMLPipeline([\n",
        "    ('impute', SimpleImputer(strategy='median'))\n",
        "    , ('standardize', StandardScaler())\n",
        "    , ('clf', SGDClassifier())\n",
        "])\n",
        "pipeline.fit(X,Y)\n",
        "\n",
        "pipeline = make_pmml_pipeline(\n",
        "pipeline,\n",
        ")"
      ],
      "execution_count": 62,
      "outputs": [
        {
          "output_type": "stream",
          "text": [
            "/usr/local/lib/python3.6/dist-packages/sklearn/base.py:197: FutureWarning: From version 0.24, get_params will raise an AttributeError if a parameter cannot be retrieved as an instance attribute. Previously it would return None.\n",
            "  FutureWarning)\n",
            "/usr/local/lib/python3.6/dist-packages/sklearn/base.py:197: FutureWarning: From version 0.24, get_params will raise an AttributeError if a parameter cannot be retrieved as an instance attribute. Previously it would return None.\n",
            "  FutureWarning)\n"
          ],
          "name": "stderr"
        }
      ]
    },
    {
      "cell_type": "code",
      "metadata": {
        "id": "W8Rxrm1ha-m4",
        "colab_type": "code",
        "colab": {}
      },
      "source": [
        "sklearn2pmml(pipeline, \"pipeline1.pmml\")"
      ],
      "execution_count": 0,
      "outputs": []
    },
    {
      "cell_type": "code",
      "metadata": {
        "id": "zTIic1x9REI5",
        "colab_type": "code",
        "colab": {}
      },
      "source": [
        "alpha = [0.0001, 0.001, 0.1]\n",
        "#\n",
        "l1_ratio = [0.1, 0.2, 0.4]\n",
        "#\n",
        "C_options = [0.2, 0.4, 0.6, 0.8]"
      ],
      "execution_count": 0,
      "outputs": []
    },
    {
      "cell_type": "code",
      "metadata": {
        "id": "o_7XZVBvRMYe",
        "colab_type": "code",
        "colab": {}
      },
      "source": [
        "param_grid =  [\n",
        "    {\n",
        "    'clf': [SGDClassifier(penalty='elasticnet', max_iter=500, loss='log')]\n",
        "    , 'clf__l1_ratio': l1_ratio\n",
        "    , 'clf__alpha': alpha\n",
        "    }, \n",
        "    {'clf': [LogisticRegression(penalty='l2', max_iter=500)]\n",
        "    , 'clf__C': C_options\n",
        "    }\n",
        "]"
      ],
      "execution_count": 0,
      "outputs": []
    },
    {
      "cell_type": "code",
      "metadata": {
        "id": "-lF6jXAER9pU",
        "colab_type": "code",
        "colab": {}
      },
      "source": [
        "grid = GridSearchCV(pl, param_grid=param_grid,cv=6, verbose=5, return_train_score=True, n_jobs=2)\n"
      ],
      "execution_count": 0,
      "outputs": []
    },
    {
      "cell_type": "code",
      "metadata": {
        "id": "pAW7XeeTfGRu",
        "colab_type": "code",
        "colab": {
          "base_uri": "https://localhost:8080/",
          "height": 708
        },
        "outputId": "1f3bb62f-169d-4adf-d4bc-9561c2765fc5"
      },
      "source": [
        "grid.fit(X_train,y_train)"
      ],
      "execution_count": 185,
      "outputs": [
        {
          "output_type": "stream",
          "text": [
            "Fitting 6 folds for each of 13 candidates, totalling 78 fits\n"
          ],
          "name": "stdout"
        },
        {
          "output_type": "stream",
          "text": [
            "[Parallel(n_jobs=2)]: Using backend LokyBackend with 2 concurrent workers.\n",
            "[Parallel(n_jobs=2)]: Done  14 tasks      | elapsed:    1.0s\n",
            "[Parallel(n_jobs=2)]: Done  78 out of  78 | elapsed:    1.5s finished\n"
          ],
          "name": "stderr"
        },
        {
          "output_type": "execute_result",
          "data": {
            "text/plain": [
              "GridSearchCV(cv=6, error_score=nan,\n",
              "             estimator=Pipeline(memory=None,\n",
              "                                steps=[('impute',\n",
              "                                        SimpleImputer(add_indicator=False,\n",
              "                                                      copy=True,\n",
              "                                                      fill_value=None,\n",
              "                                                      missing_values=nan,\n",
              "                                                      strategy='median',\n",
              "                                                      verbose=0)),\n",
              "                                       ('standardize',\n",
              "                                        StandardScaler(copy=True,\n",
              "                                                       with_mean=True,\n",
              "                                                       with_std=True)),\n",
              "                                       ('clf',\n",
              "                                        SGDClassifier(alpha=0.0001,\n",
              "                                                      average=False,\n",
              "                                                      class_weight=None,\n",
              "                                                      early_stopping=False,\n",
              "                                                      e...\n",
              "                         {'clf': [LogisticRegression(C=0.4, class_weight=None,\n",
              "                                                     dual=False,\n",
              "                                                     fit_intercept=True,\n",
              "                                                     intercept_scaling=1,\n",
              "                                                     l1_ratio=None,\n",
              "                                                     max_iter=500,\n",
              "                                                     multi_class='auto',\n",
              "                                                     n_jobs=None, penalty='l2',\n",
              "                                                     random_state=None,\n",
              "                                                     solver='lbfgs', tol=0.0001,\n",
              "                                                     verbose=0,\n",
              "                                                     warm_start=False)],\n",
              "                          'clf__C': [0.2, 0.4, 0.6, 0.8]}],\n",
              "             pre_dispatch='2*n_jobs', refit=True, return_train_score=True,\n",
              "             scoring=None, verbose=5)"
            ]
          },
          "metadata": {
            "tags": []
          },
          "execution_count": 185
        }
      ]
    },
    {
      "cell_type": "code",
      "metadata": {
        "id": "Ii8FkFtlSLp8",
        "colab_type": "code",
        "colab": {
          "base_uri": "https://localhost:8080/",
          "height": 74
        },
        "outputId": "0626a0b8-1802-4778-c1fd-5895127e54ef"
      },
      "source": [
        "from sklearn2pmml import make_pmml_pipeline\n",
        "pmml_pipe = make_pmml_pipeline(grid,)"
      ],
      "execution_count": 76,
      "outputs": [
        {
          "output_type": "stream",
          "text": [
            "/usr/local/lib/python3.6/dist-packages/sklearn/base.py:197: FutureWarning: From version 0.24, get_params will raise an AttributeError if a parameter cannot be retrieved as an instance attribute. Previously it would return None.\n",
            "  FutureWarning)\n"
          ],
          "name": "stderr"
        }
      ]
    },
    {
      "cell_type": "code",
      "metadata": {
        "id": "sQZOhO7Ifd6p",
        "colab_type": "code",
        "colab": {
          "base_uri": "https://localhost:8080/",
          "height": 163
        },
        "outputId": "e614e3dd-a7a2-447a-f444-aee3e74f458a"
      },
      "source": [
        "grid.best_params_"
      ],
      "execution_count": 70,
      "outputs": [
        {
          "output_type": "execute_result",
          "data": {
            "text/plain": [
              "{'clf': SGDClassifier(alpha=0.0001, average=False, class_weight=None,\n",
              "               early_stopping=False, epsilon=0.1, eta0=0.0, fit_intercept=True,\n",
              "               l1_ratio=0.4, learning_rate='optimal', loss='log', max_iter=500,\n",
              "               n_iter_no_change=5, n_jobs=None, penalty='elasticnet',\n",
              "               power_t=0.5, random_state=None, shuffle=True, tol=0.001,\n",
              "               validation_fraction=0.1, verbose=0, warm_start=False),\n",
              " 'clf__alpha': 0.0001,\n",
              " 'clf__l1_ratio': 0.4}"
            ]
          },
          "metadata": {
            "tags": []
          },
          "execution_count": 70
        }
      ]
    },
    {
      "cell_type": "code",
      "metadata": {
        "id": "rLmVU-mjfiZo",
        "colab_type": "code",
        "colab": {
          "base_uri": "https://localhost:8080/",
          "height": 308
        },
        "outputId": "6e6767a1-8708-4b20-80d1-5c56ce9f1370"
      },
      "source": [
        "grid.best_estimator_"
      ],
      "execution_count": 186,
      "outputs": [
        {
          "output_type": "execute_result",
          "data": {
            "text/plain": [
              "Pipeline(memory=None,\n",
              "         steps=[('impute',\n",
              "                 SimpleImputer(add_indicator=False, copy=True, fill_value=None,\n",
              "                               missing_values=nan, strategy='median',\n",
              "                               verbose=0)),\n",
              "                ('standardize',\n",
              "                 StandardScaler(copy=True, with_mean=True, with_std=True)),\n",
              "                ('clf',\n",
              "                 LogisticRegression(C=0.4, class_weight=None, dual=False,\n",
              "                                    fit_intercept=True, intercept_scaling=1,\n",
              "                                    l1_ratio=None, max_iter=500,\n",
              "                                    multi_class='auto', n_jobs=None,\n",
              "                                    penalty='l2', random_state=None,\n",
              "                                    solver='lbfgs', tol=0.0001, verbose=0,\n",
              "                                    warm_start=False))],\n",
              "         verbose=False)"
            ]
          },
          "metadata": {
            "tags": []
          },
          "execution_count": 186
        }
      ]
    },
    {
      "cell_type": "code",
      "metadata": {
        "id": "I7DfucKSdQPg",
        "colab_type": "code",
        "colab": {
          "base_uri": "https://localhost:8080/",
          "height": 907
        },
        "outputId": "c571a85f-28b6-465e-de71-a39de8f0da46"
      },
      "source": [
        "cv_df = pd.DataFrame(grid.cv_results_)\n",
        "cv_df"
      ],
      "execution_count": 187,
      "outputs": [
        {
          "output_type": "execute_result",
          "data": {
            "text/html": [
              "<div>\n",
              "<style scoped>\n",
              "    .dataframe tbody tr th:only-of-type {\n",
              "        vertical-align: middle;\n",
              "    }\n",
              "\n",
              "    .dataframe tbody tr th {\n",
              "        vertical-align: top;\n",
              "    }\n",
              "\n",
              "    .dataframe thead th {\n",
              "        text-align: right;\n",
              "    }\n",
              "</style>\n",
              "<table border=\"1\" class=\"dataframe\">\n",
              "  <thead>\n",
              "    <tr style=\"text-align: right;\">\n",
              "      <th></th>\n",
              "      <th>mean_fit_time</th>\n",
              "      <th>std_fit_time</th>\n",
              "      <th>mean_score_time</th>\n",
              "      <th>std_score_time</th>\n",
              "      <th>param_clf</th>\n",
              "      <th>param_clf__alpha</th>\n",
              "      <th>param_clf__l1_ratio</th>\n",
              "      <th>param_clf__C</th>\n",
              "      <th>params</th>\n",
              "      <th>split0_test_score</th>\n",
              "      <th>split1_test_score</th>\n",
              "      <th>split2_test_score</th>\n",
              "      <th>split3_test_score</th>\n",
              "      <th>split4_test_score</th>\n",
              "      <th>split5_test_score</th>\n",
              "      <th>mean_test_score</th>\n",
              "      <th>std_test_score</th>\n",
              "      <th>rank_test_score</th>\n",
              "      <th>split0_train_score</th>\n",
              "      <th>split1_train_score</th>\n",
              "      <th>split2_train_score</th>\n",
              "      <th>split3_train_score</th>\n",
              "      <th>split4_train_score</th>\n",
              "      <th>split5_train_score</th>\n",
              "      <th>mean_train_score</th>\n",
              "      <th>std_train_score</th>\n",
              "    </tr>\n",
              "  </thead>\n",
              "  <tbody>\n",
              "    <tr>\n",
              "      <th>0</th>\n",
              "      <td>0.008349</td>\n",
              "      <td>0.001110</td>\n",
              "      <td>0.000922</td>\n",
              "      <td>0.000138</td>\n",
              "      <td>SGDClassifier(alpha=0.0001, average=False, cla...</td>\n",
              "      <td>0.0001</td>\n",
              "      <td>0.1</td>\n",
              "      <td>NaN</td>\n",
              "      <td>{'clf': SGDClassifier(alpha=0.0001, average=Fa...</td>\n",
              "      <td>0.90</td>\n",
              "      <td>1.00</td>\n",
              "      <td>0.95</td>\n",
              "      <td>0.95</td>\n",
              "      <td>1.00</td>\n",
              "      <td>0.85</td>\n",
              "      <td>0.941667</td>\n",
              "      <td>0.053359</td>\n",
              "      <td>4</td>\n",
              "      <td>0.95</td>\n",
              "      <td>0.93</td>\n",
              "      <td>0.94</td>\n",
              "      <td>0.94</td>\n",
              "      <td>0.93</td>\n",
              "      <td>0.98</td>\n",
              "      <td>0.945000</td>\n",
              "      <td>0.017078</td>\n",
              "    </tr>\n",
              "    <tr>\n",
              "      <th>1</th>\n",
              "      <td>0.007617</td>\n",
              "      <td>0.001784</td>\n",
              "      <td>0.001112</td>\n",
              "      <td>0.000787</td>\n",
              "      <td>SGDClassifier(alpha=0.0001, average=False, cla...</td>\n",
              "      <td>0.0001</td>\n",
              "      <td>0.2</td>\n",
              "      <td>NaN</td>\n",
              "      <td>{'clf': SGDClassifier(alpha=0.0001, average=Fa...</td>\n",
              "      <td>0.95</td>\n",
              "      <td>1.00</td>\n",
              "      <td>0.95</td>\n",
              "      <td>0.90</td>\n",
              "      <td>0.95</td>\n",
              "      <td>0.80</td>\n",
              "      <td>0.925000</td>\n",
              "      <td>0.062915</td>\n",
              "      <td>5</td>\n",
              "      <td>0.94</td>\n",
              "      <td>0.96</td>\n",
              "      <td>0.98</td>\n",
              "      <td>0.97</td>\n",
              "      <td>0.95</td>\n",
              "      <td>0.98</td>\n",
              "      <td>0.963333</td>\n",
              "      <td>0.014907</td>\n",
              "    </tr>\n",
              "    <tr>\n",
              "      <th>2</th>\n",
              "      <td>0.007899</td>\n",
              "      <td>0.003745</td>\n",
              "      <td>0.003865</td>\n",
              "      <td>0.006240</td>\n",
              "      <td>SGDClassifier(alpha=0.0001, average=False, cla...</td>\n",
              "      <td>0.0001</td>\n",
              "      <td>0.4</td>\n",
              "      <td>NaN</td>\n",
              "      <td>{'clf': SGDClassifier(alpha=0.0001, average=Fa...</td>\n",
              "      <td>0.90</td>\n",
              "      <td>0.95</td>\n",
              "      <td>0.90</td>\n",
              "      <td>0.90</td>\n",
              "      <td>0.70</td>\n",
              "      <td>0.80</td>\n",
              "      <td>0.858333</td>\n",
              "      <td>0.083749</td>\n",
              "      <td>10</td>\n",
              "      <td>0.96</td>\n",
              "      <td>0.92</td>\n",
              "      <td>0.90</td>\n",
              "      <td>0.94</td>\n",
              "      <td>0.75</td>\n",
              "      <td>0.96</td>\n",
              "      <td>0.905000</td>\n",
              "      <td>0.072514</td>\n",
              "    </tr>\n",
              "    <tr>\n",
              "      <th>3</th>\n",
              "      <td>0.011238</td>\n",
              "      <td>0.005776</td>\n",
              "      <td>0.003785</td>\n",
              "      <td>0.006731</td>\n",
              "      <td>SGDClassifier(alpha=0.0001, average=False, cla...</td>\n",
              "      <td>0.001</td>\n",
              "      <td>0.1</td>\n",
              "      <td>NaN</td>\n",
              "      <td>{'clf': SGDClassifier(alpha=0.0001, average=Fa...</td>\n",
              "      <td>0.90</td>\n",
              "      <td>1.00</td>\n",
              "      <td>0.95</td>\n",
              "      <td>0.90</td>\n",
              "      <td>0.95</td>\n",
              "      <td>0.85</td>\n",
              "      <td>0.925000</td>\n",
              "      <td>0.047871</td>\n",
              "      <td>7</td>\n",
              "      <td>0.96</td>\n",
              "      <td>0.93</td>\n",
              "      <td>0.98</td>\n",
              "      <td>0.97</td>\n",
              "      <td>0.95</td>\n",
              "      <td>0.98</td>\n",
              "      <td>0.961667</td>\n",
              "      <td>0.017717</td>\n",
              "    </tr>\n",
              "    <tr>\n",
              "      <th>4</th>\n",
              "      <td>0.005854</td>\n",
              "      <td>0.000271</td>\n",
              "      <td>0.000764</td>\n",
              "      <td>0.000041</td>\n",
              "      <td>SGDClassifier(alpha=0.0001, average=False, cla...</td>\n",
              "      <td>0.001</td>\n",
              "      <td>0.2</td>\n",
              "      <td>NaN</td>\n",
              "      <td>{'clf': SGDClassifier(alpha=0.0001, average=Fa...</td>\n",
              "      <td>0.90</td>\n",
              "      <td>1.00</td>\n",
              "      <td>0.95</td>\n",
              "      <td>0.90</td>\n",
              "      <td>0.95</td>\n",
              "      <td>0.80</td>\n",
              "      <td>0.916667</td>\n",
              "      <td>0.062361</td>\n",
              "      <td>9</td>\n",
              "      <td>0.97</td>\n",
              "      <td>0.95</td>\n",
              "      <td>0.99</td>\n",
              "      <td>0.96</td>\n",
              "      <td>0.95</td>\n",
              "      <td>0.98</td>\n",
              "      <td>0.966667</td>\n",
              "      <td>0.014907</td>\n",
              "    </tr>\n",
              "    <tr>\n",
              "      <th>5</th>\n",
              "      <td>0.012435</td>\n",
              "      <td>0.007452</td>\n",
              "      <td>0.000784</td>\n",
              "      <td>0.000090</td>\n",
              "      <td>SGDClassifier(alpha=0.0001, average=False, cla...</td>\n",
              "      <td>0.001</td>\n",
              "      <td>0.4</td>\n",
              "      <td>NaN</td>\n",
              "      <td>{'clf': SGDClassifier(alpha=0.0001, average=Fa...</td>\n",
              "      <td>0.90</td>\n",
              "      <td>1.00</td>\n",
              "      <td>0.95</td>\n",
              "      <td>0.90</td>\n",
              "      <td>0.95</td>\n",
              "      <td>0.85</td>\n",
              "      <td>0.925000</td>\n",
              "      <td>0.047871</td>\n",
              "      <td>7</td>\n",
              "      <td>0.97</td>\n",
              "      <td>0.96</td>\n",
              "      <td>0.97</td>\n",
              "      <td>0.96</td>\n",
              "      <td>0.96</td>\n",
              "      <td>0.98</td>\n",
              "      <td>0.966667</td>\n",
              "      <td>0.007454</td>\n",
              "    </tr>\n",
              "    <tr>\n",
              "      <th>6</th>\n",
              "      <td>0.008710</td>\n",
              "      <td>0.003699</td>\n",
              "      <td>0.001021</td>\n",
              "      <td>0.000426</td>\n",
              "      <td>SGDClassifier(alpha=0.0001, average=False, cla...</td>\n",
              "      <td>0.1</td>\n",
              "      <td>0.1</td>\n",
              "      <td>NaN</td>\n",
              "      <td>{'clf': SGDClassifier(alpha=0.0001, average=Fa...</td>\n",
              "      <td>0.75</td>\n",
              "      <td>0.90</td>\n",
              "      <td>0.90</td>\n",
              "      <td>0.80</td>\n",
              "      <td>0.80</td>\n",
              "      <td>0.95</td>\n",
              "      <td>0.850000</td>\n",
              "      <td>0.070711</td>\n",
              "      <td>11</td>\n",
              "      <td>0.86</td>\n",
              "      <td>0.85</td>\n",
              "      <td>0.85</td>\n",
              "      <td>0.86</td>\n",
              "      <td>0.87</td>\n",
              "      <td>0.84</td>\n",
              "      <td>0.855000</td>\n",
              "      <td>0.009574</td>\n",
              "    </tr>\n",
              "    <tr>\n",
              "      <th>7</th>\n",
              "      <td>0.009014</td>\n",
              "      <td>0.003289</td>\n",
              "      <td>0.000826</td>\n",
              "      <td>0.000089</td>\n",
              "      <td>SGDClassifier(alpha=0.0001, average=False, cla...</td>\n",
              "      <td>0.1</td>\n",
              "      <td>0.2</td>\n",
              "      <td>NaN</td>\n",
              "      <td>{'clf': SGDClassifier(alpha=0.0001, average=Fa...</td>\n",
              "      <td>0.75</td>\n",
              "      <td>0.90</td>\n",
              "      <td>0.90</td>\n",
              "      <td>0.80</td>\n",
              "      <td>0.80</td>\n",
              "      <td>0.95</td>\n",
              "      <td>0.850000</td>\n",
              "      <td>0.070711</td>\n",
              "      <td>11</td>\n",
              "      <td>0.86</td>\n",
              "      <td>0.85</td>\n",
              "      <td>0.85</td>\n",
              "      <td>0.86</td>\n",
              "      <td>0.87</td>\n",
              "      <td>0.84</td>\n",
              "      <td>0.855000</td>\n",
              "      <td>0.009574</td>\n",
              "    </tr>\n",
              "    <tr>\n",
              "      <th>8</th>\n",
              "      <td>0.007439</td>\n",
              "      <td>0.003654</td>\n",
              "      <td>0.000788</td>\n",
              "      <td>0.000083</td>\n",
              "      <td>SGDClassifier(alpha=0.0001, average=False, cla...</td>\n",
              "      <td>0.1</td>\n",
              "      <td>0.4</td>\n",
              "      <td>NaN</td>\n",
              "      <td>{'clf': SGDClassifier(alpha=0.0001, average=Fa...</td>\n",
              "      <td>0.75</td>\n",
              "      <td>0.90</td>\n",
              "      <td>0.90</td>\n",
              "      <td>0.80</td>\n",
              "      <td>0.80</td>\n",
              "      <td>0.95</td>\n",
              "      <td>0.850000</td>\n",
              "      <td>0.070711</td>\n",
              "      <td>11</td>\n",
              "      <td>0.85</td>\n",
              "      <td>0.84</td>\n",
              "      <td>0.83</td>\n",
              "      <td>0.86</td>\n",
              "      <td>0.87</td>\n",
              "      <td>0.84</td>\n",
              "      <td>0.848333</td>\n",
              "      <td>0.013437</td>\n",
              "    </tr>\n",
              "    <tr>\n",
              "      <th>9</th>\n",
              "      <td>0.011064</td>\n",
              "      <td>0.002719</td>\n",
              "      <td>0.000819</td>\n",
              "      <td>0.000077</td>\n",
              "      <td>LogisticRegression(C=0.4, class_weight=None, d...</td>\n",
              "      <td>NaN</td>\n",
              "      <td>NaN</td>\n",
              "      <td>0.2</td>\n",
              "      <td>{'clf': LogisticRegression(C=0.4, class_weight...</td>\n",
              "      <td>0.90</td>\n",
              "      <td>1.00</td>\n",
              "      <td>0.95</td>\n",
              "      <td>0.90</td>\n",
              "      <td>0.90</td>\n",
              "      <td>0.90</td>\n",
              "      <td>0.925000</td>\n",
              "      <td>0.038188</td>\n",
              "      <td>5</td>\n",
              "      <td>0.93</td>\n",
              "      <td>0.91</td>\n",
              "      <td>0.95</td>\n",
              "      <td>0.93</td>\n",
              "      <td>0.93</td>\n",
              "      <td>0.94</td>\n",
              "      <td>0.931667</td>\n",
              "      <td>0.012134</td>\n",
              "    </tr>\n",
              "    <tr>\n",
              "      <th>10</th>\n",
              "      <td>0.011144</td>\n",
              "      <td>0.000663</td>\n",
              "      <td>0.000833</td>\n",
              "      <td>0.000044</td>\n",
              "      <td>LogisticRegression(C=0.4, class_weight=None, d...</td>\n",
              "      <td>NaN</td>\n",
              "      <td>NaN</td>\n",
              "      <td>0.4</td>\n",
              "      <td>{'clf': LogisticRegression(C=0.4, class_weight...</td>\n",
              "      <td>0.90</td>\n",
              "      <td>1.00</td>\n",
              "      <td>0.95</td>\n",
              "      <td>0.95</td>\n",
              "      <td>0.95</td>\n",
              "      <td>0.90</td>\n",
              "      <td>0.941667</td>\n",
              "      <td>0.034359</td>\n",
              "      <td>1</td>\n",
              "      <td>0.95</td>\n",
              "      <td>0.96</td>\n",
              "      <td>0.97</td>\n",
              "      <td>0.97</td>\n",
              "      <td>0.94</td>\n",
              "      <td>0.96</td>\n",
              "      <td>0.958333</td>\n",
              "      <td>0.010672</td>\n",
              "    </tr>\n",
              "    <tr>\n",
              "      <th>11</th>\n",
              "      <td>0.012973</td>\n",
              "      <td>0.003438</td>\n",
              "      <td>0.000832</td>\n",
              "      <td>0.000094</td>\n",
              "      <td>LogisticRegression(C=0.4, class_weight=None, d...</td>\n",
              "      <td>NaN</td>\n",
              "      <td>NaN</td>\n",
              "      <td>0.6</td>\n",
              "      <td>{'clf': LogisticRegression(C=0.4, class_weight...</td>\n",
              "      <td>0.90</td>\n",
              "      <td>1.00</td>\n",
              "      <td>0.95</td>\n",
              "      <td>0.95</td>\n",
              "      <td>0.95</td>\n",
              "      <td>0.90</td>\n",
              "      <td>0.941667</td>\n",
              "      <td>0.034359</td>\n",
              "      <td>1</td>\n",
              "      <td>0.96</td>\n",
              "      <td>0.96</td>\n",
              "      <td>0.98</td>\n",
              "      <td>0.97</td>\n",
              "      <td>0.96</td>\n",
              "      <td>0.97</td>\n",
              "      <td>0.966667</td>\n",
              "      <td>0.007454</td>\n",
              "    </tr>\n",
              "    <tr>\n",
              "      <th>12</th>\n",
              "      <td>0.012512</td>\n",
              "      <td>0.003691</td>\n",
              "      <td>0.000839</td>\n",
              "      <td>0.000157</td>\n",
              "      <td>LogisticRegression(C=0.4, class_weight=None, d...</td>\n",
              "      <td>NaN</td>\n",
              "      <td>NaN</td>\n",
              "      <td>0.8</td>\n",
              "      <td>{'clf': LogisticRegression(C=0.4, class_weight...</td>\n",
              "      <td>0.90</td>\n",
              "      <td>1.00</td>\n",
              "      <td>0.95</td>\n",
              "      <td>0.95</td>\n",
              "      <td>0.95</td>\n",
              "      <td>0.90</td>\n",
              "      <td>0.941667</td>\n",
              "      <td>0.034359</td>\n",
              "      <td>1</td>\n",
              "      <td>0.97</td>\n",
              "      <td>0.96</td>\n",
              "      <td>0.98</td>\n",
              "      <td>0.97</td>\n",
              "      <td>0.96</td>\n",
              "      <td>0.98</td>\n",
              "      <td>0.970000</td>\n",
              "      <td>0.008165</td>\n",
              "    </tr>\n",
              "  </tbody>\n",
              "</table>\n",
              "</div>"
            ],
            "text/plain": [
              "    mean_fit_time  std_fit_time  ...  mean_train_score  std_train_score\n",
              "0        0.008349      0.001110  ...          0.945000         0.017078\n",
              "1        0.007617      0.001784  ...          0.963333         0.014907\n",
              "2        0.007899      0.003745  ...          0.905000         0.072514\n",
              "3        0.011238      0.005776  ...          0.961667         0.017717\n",
              "4        0.005854      0.000271  ...          0.966667         0.014907\n",
              "5        0.012435      0.007452  ...          0.966667         0.007454\n",
              "6        0.008710      0.003699  ...          0.855000         0.009574\n",
              "7        0.009014      0.003289  ...          0.855000         0.009574\n",
              "8        0.007439      0.003654  ...          0.848333         0.013437\n",
              "9        0.011064      0.002719  ...          0.931667         0.012134\n",
              "10       0.011144      0.000663  ...          0.958333         0.010672\n",
              "11       0.012973      0.003438  ...          0.966667         0.007454\n",
              "12       0.012512      0.003691  ...          0.970000         0.008165\n",
              "\n",
              "[13 rows x 26 columns]"
            ]
          },
          "metadata": {
            "tags": []
          },
          "execution_count": 187
        }
      ]
    },
    {
      "cell_type": "code",
      "metadata": {
        "id": "Do_3Vp18goW-",
        "colab_type": "code",
        "colab": {
          "base_uri": "https://localhost:8080/",
          "height": 74
        },
        "outputId": "1f76e6b6-e720-47f7-ac8d-fc689270806e"
      },
      "source": [
        "from sklearn2pmml.pipeline import PMMLPipeline\n",
        "grid_pipeline = PMMLPipeline([\n",
        "    ('impute', SimpleImputer(strategy='median'))\n",
        "    , ('standardize', StandardScaler())\n",
        "    , ('clf', grid.best_estimator_)\n",
        "])"
      ],
      "execution_count": 77,
      "outputs": [
        {
          "output_type": "stream",
          "text": [
            "/usr/local/lib/python3.6/dist-packages/sklearn/base.py:197: FutureWarning: From version 0.24, get_params will raise an AttributeError if a parameter cannot be retrieved as an instance attribute. Previously it would return None.\n",
            "  FutureWarning)\n"
          ],
          "name": "stderr"
        }
      ]
    },
    {
      "cell_type": "code",
      "metadata": {
        "id": "YzxAC1mph9WH",
        "colab_type": "code",
        "colab": {
          "base_uri": "https://localhost:8080/",
          "height": 399
        },
        "outputId": "488a97ed-e3f4-4501-c490-9a1199f38607"
      },
      "source": [
        "grid_pipeline.fit(X,Y)"
      ],
      "execution_count": 79,
      "outputs": [
        {
          "output_type": "execute_result",
          "data": {
            "text/plain": [
              "PMMLPipeline(steps=[('impute', SimpleImputer(add_indicator=False, copy=True, fill_value=None,\n",
              "              missing_values=nan, strategy='median', verbose=0)),\n",
              "       ('standardize', StandardScaler(copy=True, with_mean=True, with_std=True)),\n",
              "       ('clf', Pipeline(memory=None,\n",
              "         steps=[('impute',\n",
              "                 SimpleImputer(add_indicator=False, copy=True, fill_value=None,\n",
              "                               missing_values=nan, strategy='median',\n",
              "                               verbose=0)),\n",
              "                ('standardize',\n",
              "                 StandardScaler(copy=True, with_mean=True, with_std=True)),\n",
              "                ('clf',\n",
              "                 SGDClassifier(alpha=0.0001, average=False, class_weight=None,\n",
              "                               early_stopping=False, epsilon=0.1, eta0=0.0,\n",
              "                               fit_intercept=True, l1_ratio=0.4,\n",
              "                               learning_rate='optimal', loss='log',\n",
              "                               max_iter=500, n_iter_no_change=5, n_jobs=None,\n",
              "                               penalty='elasticnet', power_t=0.5,\n",
              "                               random_state=None, shuffle=True, tol=0.001,\n",
              "                               validation_fraction=0.1, verbose=0,\n",
              "                               warm_start=False))],\n",
              "         verbose=False))])"
            ]
          },
          "metadata": {
            "tags": []
          },
          "execution_count": 79
        }
      ]
    },
    {
      "cell_type": "markdown",
      "metadata": {
        "id": "yzm5Ug9PUIxr",
        "colab_type": "text"
      },
      "source": [
        "#### Convert the PMMLPipeline object to a PMML file in local filesystem by invoking utility method sklearn2pmml.sklearn2pmml(pipeline, pmml_destination_path)."
      ]
    },
    {
      "cell_type": "code",
      "metadata": {
        "id": "UZNFU0jAUOqw",
        "colab_type": "code",
        "colab": {}
      },
      "source": [
        "sklearn2pmml(grid_pipeline, 'pmml_model.pmml', with_repr=True)"
      ],
      "execution_count": 0,
      "outputs": []
    },
    {
      "cell_type": "markdown",
      "metadata": {
        "id": "8AOwaavugLa_",
        "colab_type": "text"
      },
      "source": [
        "## Predictions"
      ]
    },
    {
      "cell_type": "code",
      "metadata": {
        "id": "USFruar7foWo",
        "colab_type": "code",
        "colab": {}
      },
      "source": [
        "y_pred = grid_pipeline.predict(X_test)"
      ],
      "execution_count": 0,
      "outputs": []
    },
    {
      "cell_type": "code",
      "metadata": {
        "id": "z-XoCFWjfyC0",
        "colab_type": "code",
        "colab": {
          "base_uri": "https://localhost:8080/",
          "height": 283
        },
        "outputId": "005edf01-35e4-4618-9b15-0e3e1c9e72e9"
      },
      "source": [
        "sns.heatmap(confusion_matrix(y_test,y_pred),annot=True,fmt='.2g')"
      ],
      "execution_count": 82,
      "outputs": [
        {
          "output_type": "execute_result",
          "data": {
            "text/plain": [
              "<matplotlib.axes._subplots.AxesSubplot at 0x7facedcbf898>"
            ]
          },
          "metadata": {
            "tags": []
          },
          "execution_count": 82
        },
        {
          "output_type": "display_data",
          "data": {
            "image/png": "[encoded data removed]",
            "text/plain": [
              "<Figure size 432x288 with 2 Axes>"
            ]
          },
          "metadata": {
            "tags": []
          }
        }
      ]
    },
    {
      "cell_type": "markdown",
      "metadata": {
        "id": "WFbJCc1Iidkd",
        "colab_type": "text"
      },
      "source": [
        "## Pipeline setup \n",
        "\n",
        "- 1. Feature and label definition - Specific to (J)PMML\n",
        "- 2. Feature engineering\n",
        "- 3. Feature selection - Scikit-Learn persists all features, (J)PMML persists \"surviving\" features\n",
        "-4. Estimator fitting\n",
        "-5. Decision engineering - Specific to (J)PMML"
      ]
    },
    {
      "cell_type": "markdown",
      "metadata": {
        "id": "n-b24RHXitwT",
        "colab_type": "text"
      },
      "source": [
        "Workflow:\n",
        "\n",
        "1. Column- and column set-oriented feature definition,\n",
        "engineering and selection\n",
        "\n",
        "2. Table-oriented feature engineering and selection\n",
        "\n",
        "3. Estimator fitting\n",
        "\n",
        "Full support for pipeline nesting, branching."
      ]
    },
    {
      "cell_type": "code",
      "metadata": {
        "id": "xaFEProvicwP",
        "colab_type": "code",
        "colab": {}
      },
      "source": [
        "from sklearn2pmml import PMMLPipeline\n",
        "from sklearn2pmml.decoration import CategoricalDomain, ContinuousDomain\n",
        "from sklearn_pandas import DataFrameMapper"
      ],
      "execution_count": 0,
      "outputs": []
    },
    {
      "cell_type": "code",
      "metadata": {
        "id": "An59NCMqtlYE",
        "colab_type": "code",
        "colab": {}
      },
      "source": [
        "df1 = pd.DataFrame(X,columns=data.feature_names)\n",
        "df1['Labels'] = Y"
      ],
      "execution_count": 0,
      "outputs": []
    },
    {
      "cell_type": "code",
      "metadata": {
        "id": "bnsE_qgJtvA9",
        "colab_type": "code",
        "colab": {
          "base_uri": "https://localhost:8080/",
          "height": 198
        },
        "outputId": "88fb1b51-d200-4da6-ce1b-b79cb380396a"
      },
      "source": [
        "df1.head()"
      ],
      "execution_count": 87,
      "outputs": [
        {
          "output_type": "execute_result",
          "data": {
            "text/html": [
              "<div>\n",
              "<style scoped>\n",
              "    .dataframe tbody tr th:only-of-type {\n",
              "        vertical-align: middle;\n",
              "    }\n",
              "\n",
              "    .dataframe tbody tr th {\n",
              "        vertical-align: top;\n",
              "    }\n",
              "\n",
              "    .dataframe thead th {\n",
              "        text-align: right;\n",
              "    }\n",
              "</style>\n",
              "<table border=\"1\" class=\"dataframe\">\n",
              "  <thead>\n",
              "    <tr style=\"text-align: right;\">\n",
              "      <th></th>\n",
              "      <th>sepal length (cm)</th>\n",
              "      <th>sepal width (cm)</th>\n",
              "      <th>petal length (cm)</th>\n",
              "      <th>petal width (cm)</th>\n",
              "      <th>Labels</th>\n",
              "    </tr>\n",
              "  </thead>\n",
              "  <tbody>\n",
              "    <tr>\n",
              "      <th>0</th>\n",
              "      <td>5.1</td>\n",
              "      <td>3.5</td>\n",
              "      <td>1.4</td>\n",
              "      <td>0.2</td>\n",
              "      <td>0</td>\n",
              "    </tr>\n",
              "    <tr>\n",
              "      <th>1</th>\n",
              "      <td>4.9</td>\n",
              "      <td>3.0</td>\n",
              "      <td>1.4</td>\n",
              "      <td>0.2</td>\n",
              "      <td>0</td>\n",
              "    </tr>\n",
              "    <tr>\n",
              "      <th>2</th>\n",
              "      <td>4.7</td>\n",
              "      <td>3.2</td>\n",
              "      <td>1.3</td>\n",
              "      <td>0.2</td>\n",
              "      <td>0</td>\n",
              "    </tr>\n",
              "    <tr>\n",
              "      <th>3</th>\n",
              "      <td>4.6</td>\n",
              "      <td>3.1</td>\n",
              "      <td>1.5</td>\n",
              "      <td>0.2</td>\n",
              "      <td>0</td>\n",
              "    </tr>\n",
              "    <tr>\n",
              "      <th>4</th>\n",
              "      <td>5.0</td>\n",
              "      <td>3.6</td>\n",
              "      <td>1.4</td>\n",
              "      <td>0.2</td>\n",
              "      <td>0</td>\n",
              "    </tr>\n",
              "  </tbody>\n",
              "</table>\n",
              "</div>"
            ],
            "text/plain": [
              "   sepal length (cm)  sepal width (cm)  ...  petal width (cm)  Labels\n",
              "0                5.1               3.5  ...               0.2       0\n",
              "1                4.9               3.0  ...               0.2       0\n",
              "2                4.7               3.2  ...               0.2       0\n",
              "3                4.6               3.1  ...               0.2       0\n",
              "4                5.0               3.6  ...               0.2       0\n",
              "\n",
              "[5 rows x 5 columns]"
            ]
          },
          "metadata": {
            "tags": []
          },
          "execution_count": 87
        }
      ]
    },
    {
      "cell_type": "code",
      "metadata": {
        "id": "LPLZqP9_t38r",
        "colab_type": "code",
        "colab": {
          "base_uri": "https://localhost:8080/",
          "height": 288
        },
        "outputId": "8fe2578a-b048-42da-fc51-8df79b67db87"
      },
      "source": [
        "df1.describe()"
      ],
      "execution_count": 88,
      "outputs": [
        {
          "output_type": "execute_result",
          "data": {
            "text/html": [
              "<div>\n",
              "<style scoped>\n",
              "    .dataframe tbody tr th:only-of-type {\n",
              "        vertical-align: middle;\n",
              "    }\n",
              "\n",
              "    .dataframe tbody tr th {\n",
              "        vertical-align: top;\n",
              "    }\n",
              "\n",
              "    .dataframe thead th {\n",
              "        text-align: right;\n",
              "    }\n",
              "</style>\n",
              "<table border=\"1\" class=\"dataframe\">\n",
              "  <thead>\n",
              "    <tr style=\"text-align: right;\">\n",
              "      <th></th>\n",
              "      <th>sepal length (cm)</th>\n",
              "      <th>sepal width (cm)</th>\n",
              "      <th>petal length (cm)</th>\n",
              "      <th>petal width (cm)</th>\n",
              "      <th>Labels</th>\n",
              "    </tr>\n",
              "  </thead>\n",
              "  <tbody>\n",
              "    <tr>\n",
              "      <th>count</th>\n",
              "      <td>150.000000</td>\n",
              "      <td>150.000000</td>\n",
              "      <td>150.000000</td>\n",
              "      <td>150.000000</td>\n",
              "      <td>150.000000</td>\n",
              "    </tr>\n",
              "    <tr>\n",
              "      <th>mean</th>\n",
              "      <td>5.843333</td>\n",
              "      <td>3.057333</td>\n",
              "      <td>3.758000</td>\n",
              "      <td>1.199333</td>\n",
              "      <td>1.000000</td>\n",
              "    </tr>\n",
              "    <tr>\n",
              "      <th>std</th>\n",
              "      <td>0.828066</td>\n",
              "      <td>0.435866</td>\n",
              "      <td>1.765298</td>\n",
              "      <td>0.762238</td>\n",
              "      <td>0.819232</td>\n",
              "    </tr>\n",
              "    <tr>\n",
              "      <th>min</th>\n",
              "      <td>4.300000</td>\n",
              "      <td>2.000000</td>\n",
              "      <td>1.000000</td>\n",
              "      <td>0.100000</td>\n",
              "      <td>0.000000</td>\n",
              "    </tr>\n",
              "    <tr>\n",
              "      <th>25%</th>\n",
              "      <td>5.100000</td>\n",
              "      <td>2.800000</td>\n",
              "      <td>1.600000</td>\n",
              "      <td>0.300000</td>\n",
              "      <td>0.000000</td>\n",
              "    </tr>\n",
              "    <tr>\n",
              "      <th>50%</th>\n",
              "      <td>5.800000</td>\n",
              "      <td>3.000000</td>\n",
              "      <td>4.350000</td>\n",
              "      <td>1.300000</td>\n",
              "      <td>1.000000</td>\n",
              "    </tr>\n",
              "    <tr>\n",
              "      <th>75%</th>\n",
              "      <td>6.400000</td>\n",
              "      <td>3.300000</td>\n",
              "      <td>5.100000</td>\n",
              "      <td>1.800000</td>\n",
              "      <td>2.000000</td>\n",
              "    </tr>\n",
              "    <tr>\n",
              "      <th>max</th>\n",
              "      <td>7.900000</td>\n",
              "      <td>4.400000</td>\n",
              "      <td>6.900000</td>\n",
              "      <td>2.500000</td>\n",
              "      <td>2.000000</td>\n",
              "    </tr>\n",
              "  </tbody>\n",
              "</table>\n",
              "</div>"
            ],
            "text/plain": [
              "       sepal length (cm)  sepal width (cm)  ...  petal width (cm)      Labels\n",
              "count         150.000000        150.000000  ...        150.000000  150.000000\n",
              "mean            5.843333          3.057333  ...          1.199333    1.000000\n",
              "std             0.828066          0.435866  ...          0.762238    0.819232\n",
              "min             4.300000          2.000000  ...          0.100000    0.000000\n",
              "25%             5.100000          2.800000  ...          0.300000    0.000000\n",
              "50%             5.800000          3.000000  ...          1.300000    1.000000\n",
              "75%             6.400000          3.300000  ...          1.800000    2.000000\n",
              "max             7.900000          4.400000  ...          2.500000    2.000000\n",
              "\n",
              "[8 rows x 5 columns]"
            ]
          },
          "metadata": {
            "tags": []
          },
          "execution_count": 88
        }
      ]
    },
    {
      "cell_type": "code",
      "metadata": {
        "id": "jbEwo7e2z-Ea",
        "colab_type": "code",
        "colab": {
          "base_uri": "https://localhost:8080/",
          "height": 90
        },
        "outputId": "9b34ab33-4609-4389-8e84-4e67995cf2e1"
      },
      "source": [
        "x = df1.drop('Labels',axis=1)\n",
        "y = df1['Labels']\n",
        "\n",
        "x.columns.to_list()"
      ],
      "execution_count": 172,
      "outputs": [
        {
          "output_type": "execute_result",
          "data": {
            "text/plain": [
              "['sepal length (cm)',\n",
              " 'sepal width (cm)',\n",
              " 'petal length (cm)',\n",
              " 'petal width (cm)']"
            ]
          },
          "metadata": {
            "tags": []
          },
          "execution_count": 172
        }
      ]
    },
    {
      "cell_type": "code",
      "metadata": {
        "id": "pEvV8-uzzg5p",
        "colab_type": "code",
        "colab": {
          "base_uri": "https://localhost:8080/",
          "height": 74
        },
        "outputId": "19ad7a46-3995-4291-c736-1af9acbad395"
      },
      "source": [
        "from sklearn.feature_selection import SelectKBest\n",
        "from sklearn.ensemble import RandomForestClassifier\n",
        "\n",
        "pipeline_1 = PMMLPipeline([\n",
        "(\"stage1\", DataFrameMapper([\n",
        "(x.columns.to_list(),  [ContinuousDomain(), SimpleImputer(strategy='median')])])),\n",
        "(\"stage2\", SelectKBest(chi2, k=2)),\n",
        "(\"stage3\", RandomForestClassifier())\n",
        "])"
      ],
      "execution_count": 179,
      "outputs": [
        {
          "output_type": "stream",
          "text": [
            "/usr/local/lib/python3.6/dist-packages/sklearn/base.py:197: FutureWarning: From version 0.24, get_params will raise an AttributeError if a parameter cannot be retrieved as an instance attribute. Previously it would return None.\n",
            "  FutureWarning)\n"
          ],
          "name": "stderr"
        }
      ]
    },
    {
      "cell_type": "code",
      "metadata": {
        "id": "ri1yMTml6qCL",
        "colab_type": "code",
        "colab": {
          "base_uri": "https://localhost:8080/",
          "height": 490
        },
        "outputId": "b322c90a-ac92-4489-8b3d-f73fd1b25207"
      },
      "source": [
        "pipeline_1.fit(x,y)"
      ],
      "execution_count": 180,
      "outputs": [
        {
          "output_type": "execute_result",
          "data": {
            "text/plain": [
              "PMMLPipeline(steps=[('stage1', DataFrameMapper(default=False, df_out=False,\n",
              "                features=[(['sepal length (cm)', 'sepal width (cm)',\n",
              "                            'petal length (cm)', 'petal width (cm)'],\n",
              "                           [ContinuousDomain(dtype=None, high_value=None,\n",
              "                                             invalid_value_replacement=None,\n",
              "                                             invalid_value_treatment='return_invalid',\n",
              "                                             low_value=None,\n",
              "                                             missing_value_replacement=None,\n",
              "                                             missing_value_treatment='as_is',\n",
              "                                             missing_values=None,\n",
              "                                             outlier_treatment='as_is',\n",
              "                                             with_data=True,\n",
              "                                             with_statistics=True),\n",
              "                            SimpleImputer(add_indicator=False, copy=True,\n",
              "                                          fill_value=None, missing_values=nan,\n",
              "                                          strategy='median', verbose=0)])],\n",
              "                input_df=False, sparse=False)),\n",
              "       ('stage2', SelectKBest(k=2, score_func=<function chi2 at 0x7facf3dbcf28>)),\n",
              "       ('stage3', RandomForestClassifier(bootstrap=True, ccp_alpha=0.0, class_weight=None,\n",
              "                       criterion='gini', max_depth=None, max_features='auto',\n",
              "                       max_leaf_nodes=None, max_samples=None,\n",
              "                       min_impurity_decrease=0.0, min_impurity_split=None,\n",
              "                       min_samples_leaf=1, min_samples_split=2,\n",
              "                       min_weight_fraction_leaf=0.0, n_estimators=100,\n",
              "                       n_jobs=None, oob_score=False, random_state=None,\n",
              "                       verbose=0, warm_start=False))])"
            ]
          },
          "metadata": {
            "tags": []
          },
          "execution_count": 180
        }
      ]
    },
    {
      "cell_type": "code",
      "metadata": {
        "id": "gXfmTyVE9l8v",
        "colab_type": "code",
        "colab": {}
      },
      "source": [
        "y_pred = pipeline.predict(x)"
      ],
      "execution_count": 0,
      "outputs": []
    },
    {
      "cell_type": "markdown",
      "metadata": {
        "id": "Ki7sdBbEIFot",
        "colab_type": "text"
      },
      "source": [
        "Without missing values:\n",
        "\n",
        "(features=[(['sepal length (cm)', 'sepal width (cm)',\n",
        "                            'petal length (cm)', 'petal width (cm)'], [ContinuousDomain(invalid_value_treatment = \"return_invalid\",\n",
        "missing_value_treatment = \"as_is\", with_data = True,\n",
        "with_statistics = True)])\n",
        "\n",
        "\n",
        "\n",
        "With missing values (encoded as None/NaN):\n",
        "\n",
        "(Features=[(['sepal length (cm)', 'sepal width (cm)',\n",
        "                            'petal length (cm)', 'petal width (cm)'],, [ContinuousDomain(), Imputer()])\n",
        "With missing values (encoded using dummy values):\n",
        "\n",
        "(Features=[(['sepal length (cm)', 'sepal width (cm)',\n",
        "                            'petal length (cm)', 'petal width (cm)'],, [ContinuousDomain(missing_values = -999),\n",
        "Imputer(missing_values = -999)])"
      ]
    },
    {
      "cell_type": "code",
      "metadata": {
        "id": "OLk3bkWW8R2t",
        "colab_type": "code",
        "colab": {}
      },
      "source": [
        "sklearn2pmml(pipeline_1, \"RanomForestClassifier.pmml\", with_repr = True)"
      ],
      "execution_count": 0,
      "outputs": []
    },
    {
      "cell_type": "markdown",
      "metadata": {
        "id": "fc_a4dipcBIa",
        "colab_type": "text"
      },
      "source": [
        "## Feature engineering"
      ]
    },
    {
      "cell_type": "code",
      "metadata": {
        "id": "W3XyCFtZcDBp",
        "colab_type": "code",
        "colab": {}
      },
      "source": [
        "#sample code Continuous features \n",
        "from sklearn.preprocessing import Binarizer, FunctionTransformer\n",
        "from sklearn2pmml.preprocessing import ExpressionTransformer\n",
        "features = FeatureUnion([\n",
        "                        (\"identity\", DataFrameMapper([([\"Income\", \"Hours\"], ContinuousDomain())])),\n",
        "                         (\"transformation\", DataFrameMapper([([\"Income\"], FunctionTransformer(numpy.log10)),\n",
        "                                    ([\"Hours\"], Binarizer(threshold = 40)),\n",
        "                                    ([\"Income\", \"Hours\"], ExpressionTransformer(\"X[:,0]/(X[:,1]*52)\"))\n",
        "                                     ]))\n",
        "])"
      ],
      "execution_count": 0,
      "outputs": []
    },
    {
      "cell_type": "code",
      "metadata": {
        "id": "097sWApufJJN",
        "colab_type": "code",
        "colab": {}
      },
      "source": [
        "# sample code Categorical features\n",
        "from sklearn preprocessing import LabelBinarizer, PolynomialFeatures\n",
        "features = Pipeline([\n",
        "(\"identity\", DataFrameMapper([\n",
        "(\"Education\", [CategoricalDomain(), LabelBinarizer()]),\n",
        "(\"Occupation\", [CategoricalDomain(), LabelBinarizer()])\n",
        "])),\n",
        "(\"interaction\", PolynomialFeatures())\n",
        "])"
      ],
      "execution_count": 0,
      "outputs": []
    },
    {
      "cell_type": "markdown",
      "metadata": {
        "id": "3dj8dDWHfR3o",
        "colab_type": "text"
      },
      "source": [
        "## Algorithm tuning\n"
      ]
    },
    {
      "cell_type": "code",
      "metadata": {
        "id": "bbMPb7S5fg3Z",
        "colab_type": "code",
        "colab": {
          "base_uri": "https://localhost:8080/",
          "height": 601
        },
        "outputId": "99290e8b-aaa7-48bb-d14e-afa76ef86ad1"
      },
      "source": [
        "!pip install tpot"
      ],
      "execution_count": 188,
      "outputs": [
        {
          "output_type": "stream",
          "text": [
            "Collecting tpot\n",
            "\u001b[?25l  Downloading https://files.pythonhosted.org/packages/ea/9f/813faf5ec7aa95f393a07603abd01fcb925b65ffe95441b25da029a69ff7/TPOT-0.11.1-py3-none-any.whl (75kB)\n",
            "\u001b[K     |████████████████████████████████| 81kB 2.7MB/s \n",
            "\u001b[?25hCollecting deap>=1.2\n",
            "\u001b[?25l  Downloading https://files.pythonhosted.org/packages/0a/eb/2bd0a32e3ce757fb26264765abbaedd6d4d3640d90219a513aeabd08ee2b/deap-1.3.1-cp36-cp36m-manylinux2010_x86_64.whl (157kB)\n",
            "\u001b[K     |████████████████████████████████| 163kB 8.2MB/s \n",
            "\u001b[?25hRequirement already satisfied: pandas>=0.24.2 in /usr/local/lib/python3.6/dist-packages (from tpot) (1.0.3)\n",
            "Requirement already satisfied: joblib>=0.13.2 in /usr/local/lib/python3.6/dist-packages (from tpot) (0.14.1)\n",
            "Collecting stopit>=1.1.1\n",
            "  Downloading https://files.pythonhosted.org/packages/35/58/e8bb0b0fb05baf07bbac1450c447d753da65f9701f551dca79823ce15d50/stopit-1.1.2.tar.gz\n",
            "Requirement already satisfied: tqdm>=4.36.1 in /usr/local/lib/python3.6/dist-packages (from tpot) (4.38.0)\n",
            "Requirement already satisfied: scikit-learn>=0.22.0 in /usr/local/lib/python3.6/dist-packages (from tpot) (0.22.2.post1)\n",
            "Requirement already satisfied: scipy>=1.3.1 in /usr/local/lib/python3.6/dist-packages (from tpot) (1.4.1)\n",
            "Requirement already satisfied: numpy>=1.16.3 in /usr/local/lib/python3.6/dist-packages (from tpot) (1.18.2)\n",
            "Collecting update-checker>=0.16\n",
            "  Downloading https://files.pythonhosted.org/packages/17/c9/ab11855af164d03be0ff4fddd4c46a5bd44799a9ecc1770e01a669c21168/update_checker-0.16-py2.py3-none-any.whl\n",
            "Requirement already satisfied: python-dateutil>=2.6.1 in /usr/local/lib/python3.6/dist-packages (from pandas>=0.24.2->tpot) (2.8.1)\n",
            "Requirement already satisfied: pytz>=2017.2 in /usr/local/lib/python3.6/dist-packages (from pandas>=0.24.2->tpot) (2018.9)\n",
            "Requirement already satisfied: requests>=2.3.0 in /usr/local/lib/python3.6/dist-packages (from update-checker>=0.16->tpot) (2.21.0)\n",
            "Requirement already satisfied: six>=1.5 in /usr/local/lib/python3.6/dist-packages (from python-dateutil>=2.6.1->pandas>=0.24.2->tpot) (1.12.0)\n",
            "Requirement already satisfied: urllib3<1.25,>=1.21.1 in /usr/local/lib/python3.6/dist-packages (from requests>=2.3.0->update-checker>=0.16->tpot) (1.24.3)\n",
            "Requirement already satisfied: chardet<3.1.0,>=3.0.2 in /usr/local/lib/python3.6/dist-packages (from requests>=2.3.0->update-checker>=0.16->tpot) (3.0.4)\n",
            "Requirement already satisfied: idna<2.9,>=2.5 in /usr/local/lib/python3.6/dist-packages (from requests>=2.3.0->update-checker>=0.16->tpot) (2.8)\n",
            "Requirement already satisfied: certifi>=2017.4.17 in /usr/local/lib/python3.6/dist-packages (from requests>=2.3.0->update-checker>=0.16->tpot) (2019.11.28)\n",
            "Building wheels for collected packages: stopit\n",
            "  Building wheel for stopit (setup.py) ... \u001b[?25l\u001b[?25hdone\n",
            "  Created wheel for stopit: filename=stopit-1.1.2-cp36-none-any.whl size=11956 sha256=11777c8b58ab76da15a9da101710f579a010487d384ab4949fa08e50972bb652\n",
            "  Stored in directory: /root/.cache/pip/wheels/3c/85/2b/2580190404636bfc63e8de3dff629c03bb795021e1983a6cc7\n",
            "Successfully built stopit\n",
            "Installing collected packages: deap, stopit, update-checker, tpot\n",
            "Successfully installed deap-1.3.1 stopit-1.1.2 tpot-0.11.1 update-checker-0.16\n"
          ],
          "name": "stdout"
        }
      ]
    },
    {
      "cell_type": "code",
      "metadata": {
        "id": "tE66C2jifVSC",
        "colab_type": "code",
        "colab": {
          "base_uri": "https://localhost:8080/",
          "height": 145
        },
        "outputId": "aa53cf55-a454-4f46-a9f2-728eb86d669e"
      },
      "source": [
        "from sklearn2pmml import make_pmml_pipeline, sklearn2pmml\n",
        "from tpot import TPOTClassifier\n",
        "# See https://github.com/rhiever/tpot\n",
        "tpot = TPOTClassifier()\n",
        "tpot.fit(x,y)"
      ],
      "execution_count": 200,
      "outputs": [
        {
          "output_type": "execute_result",
          "data": {
            "text/plain": [
              "TPOTClassifier(config_dict=None, crossover_rate=0.1, cv=5,\n",
              "               disable_update_check=False, early_stop=None, generations=100,\n",
              "               max_eval_time_mins=5, max_time_mins=None, memory=None,\n",
              "               mutation_rate=0.9, n_jobs=1, offspring_size=None,\n",
              "               periodic_checkpoint_folder=None, population_size=100,\n",
              "               random_state=None, scoring=None, subsample=1.0, template=None,\n",
              "               use_dask=False, verbosity=0, warm_start=False)"
            ]
          },
          "metadata": {
            "tags": []
          },
          "execution_count": 200
        }
      ]
    },
    {
      "cell_type": "code",
      "metadata": {
        "id": "Di_IJ3NYw8rq",
        "colab_type": "code",
        "colab": {
          "base_uri": "https://localhost:8080/",
          "height": 217
        },
        "outputId": "e83a6609-b79d-4bc7-8e3d-ee81e78c7598"
      },
      "source": [
        "# Show the final model\n",
        "print(tpot.fitted_pipeline_)"
      ],
      "execution_count": 201,
      "outputs": [
        {
          "output_type": "stream",
          "text": [
            "Pipeline(memory=None,\n",
            "         steps=[('stackingestimator',\n",
            "                 StackingEstimator(estimator=MultinomialNB(alpha=100.0,\n",
            "                                                           class_prior=None,\n",
            "                                                           fit_prior=False))),\n",
            "                ('kneighborsclassifier',\n",
            "                 KNeighborsClassifier(algorithm='auto', leaf_size=30,\n",
            "                                      metric='minkowski', metric_params=None,\n",
            "                                      n_jobs=None, n_neighbors=10, p=2,\n",
            "                                      weights='distance'))],\n",
            "         verbose=False)\n"
          ],
          "name": "stdout"
        }
      ]
    },
    {
      "cell_type": "code",
      "metadata": {
        "id": "9eKXJs3y0Vgd",
        "colab_type": "code",
        "colab": {
          "base_uri": "https://localhost:8080/",
          "height": 72
        },
        "outputId": "1ae3a458-729d-4b20-fb7a-974b30c9c04f"
      },
      "source": [
        "x.columns"
      ],
      "execution_count": 199,
      "outputs": [
        {
          "output_type": "execute_result",
          "data": {
            "text/plain": [
              "Index(['sepal length (cm)', 'sepal width (cm)', 'petal length (cm)',\n",
              "       'petal width (cm)'],\n",
              "      dtype='object')"
            ]
          },
          "metadata": {
            "tags": []
          },
          "execution_count": 199
        }
      ]
    },
    {
      "cell_type": "code",
      "metadata": {
        "id": "vYC6861lzCDA",
        "colab_type": "code",
        "colab": {
          "base_uri": "https://localhost:8080/",
          "height": 1000
        },
        "outputId": "cf266e61-95b6-4f84-d2ef-1fb2508656fe"
      },
      "source": [
        "pmml_pipeline = make_pmml_pipeline(tpot.fitted_pipeline_, active_fields = data.feature_names, target_fields = [\"species\"])\n",
        "\n",
        "sklearn2pmml(pmml_pipeline, \"TPOTIris.pmml\", with_repr = True)"
      ],
      "execution_count": 215,
      "outputs": [
        {
          "output_type": "stream",
          "text": [
            "/usr/local/lib/python3.6/dist-packages/sklearn/base.py:197: FutureWarning: From version 0.24, get_params will raise an AttributeError if a parameter cannot be retrieved as an instance attribute. Previously it would return None.\n",
            "  FutureWarning)\n"
          ],
          "name": "stderr"
        },
        {
          "output_type": "stream",
          "text": [
            "Standard output is empty\n",
            "Standard error:\n",
            "Apr 07, 2020 3:46:54 PM org.jpmml.sklearn.Main run\n",
            "INFO: Parsing PKL..\n",
            "Apr 07, 2020 3:46:54 PM org.jpmml.sklearn.Main run\n",
            "INFO: Parsed PKL in 55 ms.\n",
            "Apr 07, 2020 3:46:54 PM org.jpmml.sklearn.Main run\n",
            "INFO: Converting..\n",
            "Apr 07, 2020 3:46:54 PM org.jpmml.sklearn.Main run\n",
            "SEVERE: Failed to convert\n",
            "java.lang.IllegalArgumentException: Attribute 'tpot.builtins.stacking_estimator.StackingEstimator.estimator' has an unsupported value (Python class sklearn.naive_bayes.MultinomialNB)\n",
            "\tat org.jpmml.sklearn.CastFunction.apply(CastFunction.java:45)\n",
            "\tat org.jpmml.sklearn.PyClassDict.get(PyClassDict.java:82)\n",
            "\tat tpot.builtins.StackingEstimator.getEstimator(StackingEstimator.java:143)\n",
            "\tat tpot.builtins.StackingEstimator.getNumberOfFeatures(StackingEstimator.java:56)\n",
            "\tat sklearn.TransformerUtil.getNumberOfFeatures(TransformerUtil.java:41)\n",
            "\tat sklearn.Composite.encodeFeatures(Composite.java:123)\n",
            "\tat sklearn2pmml.pipeline.PMMLPipeline.encodePMML(PMMLPipeline.java:208)\n",
            "\tat org.jpmml.sklearn.Main.run(Main.java:228)\n",
            "\tat org.jpmml.sklearn.Main.main(Main.java:148)\n",
            "Caused by: java.lang.ClassCastException: Cannot cast net.razorvine.pickle.objects.ClassDict to sklearn.Estimator\n",
            "\tat java.base/java.lang.Class.cast(Class.java:3605)\n",
            "\tat org.jpmml.sklearn.CastFunction.apply(CastFunction.java:43)\n",
            "\t... 8 more\n",
            "\n",
            "Exception in thread \"main\" java.lang.IllegalArgumentException: Attribute 'tpot.builtins.stacking_estimator.StackingEstimator.estimator' has an unsupported value (Python class sklearn.naive_bayes.MultinomialNB)\n",
            "\tat org.jpmml.sklearn.CastFunction.apply(CastFunction.java:45)\n",
            "\tat org.jpmml.sklearn.PyClassDict.get(PyClassDict.java:82)\n",
            "\tat tpot.builtins.StackingEstimator.getEstimator(StackingEstimator.java:143)\n",
            "\tat tpot.builtins.StackingEstimator.getNumberOfFeatures(StackingEstimator.java:56)\n",
            "\tat sklearn.TransformerUtil.getNumberOfFeatures(TransformerUtil.java:41)\n",
            "\tat sklearn.Composite.encodeFeatures(Composite.java:123)\n",
            "\tat sklearn2pmml.pipeline.PMMLPipeline.encodePMML(PMMLPipeline.java:208)\n",
            "\tat org.jpmml.sklearn.Main.run(Main.java:228)\n",
            "\tat org.jpmml.sklearn.Main.main(Main.java:148)\n",
            "Caused by: java.lang.ClassCastException: Cannot cast net.razorvine.pickle.objects.ClassDict to sklearn.Estimator\n",
            "\tat java.base/java.lang.Class.cast(Class.java:3605)\n",
            "\tat org.jpmml.sklearn.CastFunction.apply(CastFunction.java:43)\n",
            "\t... 8 more\n",
            "\n"
          ],
          "name": "stdout"
        },
        {
          "output_type": "error",
          "ename": "RuntimeError",
          "evalue": "ignored",
          "traceback": [
            "\u001b[0;31m---------------------------------------------------------------------------\u001b[0m",
            "\u001b[0;31mRuntimeError\u001b[0m                              Traceback (most recent call last)",
            "\u001b[0;32m<ipython-input-215-ff2bbecae71a>\u001b[0m in \u001b[0;36m<module>\u001b[0;34m()\u001b[0m\n\u001b[1;32m      1\u001b[0m \u001b[0mpmml_pipeline\u001b[0m \u001b[0;34m=\u001b[0m \u001b[0mmake_pmml_pipeline\u001b[0m\u001b[0;34m(\u001b[0m\u001b[0mtpot\u001b[0m\u001b[0;34m.\u001b[0m\u001b[0mfitted_pipeline_\u001b[0m\u001b[0;34m,\u001b[0m \u001b[0mactive_fields\u001b[0m \u001b[0;34m=\u001b[0m \u001b[0mdata\u001b[0m\u001b[0;34m.\u001b[0m\u001b[0mfeature_names\u001b[0m\u001b[0;34m,\u001b[0m \u001b[0mtarget_fields\u001b[0m \u001b[0;34m=\u001b[0m \u001b[0;34m[\u001b[0m\u001b[0;34m\"species\"\u001b[0m\u001b[0;34m]\u001b[0m\u001b[0;34m)\u001b[0m\u001b[0;34m\u001b[0m\u001b[0;34m\u001b[0m\u001b[0m\n\u001b[1;32m      2\u001b[0m \u001b[0;34m\u001b[0m\u001b[0m\n\u001b[0;32m----> 3\u001b[0;31m \u001b[0msklearn2pmml\u001b[0m\u001b[0;34m(\u001b[0m\u001b[0mpmml_pipeline\u001b[0m\u001b[0;34m,\u001b[0m \u001b[0;34m\"TPOTIris.pmml\"\u001b[0m\u001b[0;34m,\u001b[0m \u001b[0mwith_repr\u001b[0m \u001b[0;34m=\u001b[0m \u001b[0;32mTrue\u001b[0m\u001b[0;34m)\u001b[0m\u001b[0;34m\u001b[0m\u001b[0;34m\u001b[0m\u001b[0m\n\u001b[0m",
            "\u001b[0;32m/usr/local/lib/python3.6/dist-packages/sklearn2pmml/__init__.py\u001b[0m in \u001b[0;36msklearn2pmml\u001b[0;34m(pipeline, pmml, user_classpath, with_repr, debug, java_encoding)\u001b[0m\n\u001b[1;32m    264\u001b[0m                                 \u001b[0mprint\u001b[0m\u001b[0;34m(\u001b[0m\u001b[0;34m\"Standard error is empty\"\u001b[0m\u001b[0;34m)\u001b[0m\u001b[0;34m\u001b[0m\u001b[0;34m\u001b[0m\u001b[0m\n\u001b[1;32m    265\u001b[0m                 \u001b[0;32mif\u001b[0m \u001b[0mretcode\u001b[0m\u001b[0;34m:\u001b[0m\u001b[0;34m\u001b[0m\u001b[0;34m\u001b[0m\u001b[0m\n\u001b[0;32m--> 266\u001b[0;31m                         \u001b[0;32mraise\u001b[0m \u001b[0mRuntimeError\u001b[0m\u001b[0;34m(\u001b[0m\u001b[0;34m\"The JPMML-SkLearn conversion application has failed. The Java executable should have printed more information about the failure into its standard output and/or standard error streams\"\u001b[0m\u001b[0;34m)\u001b[0m\u001b[0;34m\u001b[0m\u001b[0;34m\u001b[0m\u001b[0m\n\u001b[0m\u001b[1;32m    267\u001b[0m         \u001b[0;32mfinally\u001b[0m\u001b[0;34m:\u001b[0m\u001b[0;34m\u001b[0m\u001b[0;34m\u001b[0m\u001b[0m\n\u001b[1;32m    268\u001b[0m                 \u001b[0;32mif\u001b[0m \u001b[0mdebug\u001b[0m\u001b[0;34m:\u001b[0m\u001b[0;34m\u001b[0m\u001b[0;34m\u001b[0m\u001b[0m\n",
            "\u001b[0;31mRuntimeError\u001b[0m: The JPMML-SkLearn conversion application has failed. The Java executable should have printed more information about the failure into its standard output and/or standard error streams"
          ]
        }
      ]
    },
    {
      "cell_type": "code",
      "metadata": {
        "id": "pWrCNsshBumz",
        "colab_type": "code",
        "colab": {
          "base_uri": "https://localhost:8080/",
          "height": 1000,
          "referenced_widgets": [
            "b143e261486045dabf4497048e70ff7a",
            "45eac2692e854c44a675f727d91272cb",
            "6a96ed405c434545a6edad06e20b199e",
            "6cd5349eb65e4655b633a8ae8b19c0e8",
            "1e250532f0ad4c649966572d23cc5423",
            "dce65c63590641a9aae5504198d3e544",
            "417cc6309bc648fc8d92b8bbc5b307db",
            "73072ae03acc4ddcbaed1ea0445b63f3"
          ]
        },
        "outputId": "c8b0afd1-d7a0-4212-f153-24caa8828cb9"
      },
      "source": [
        "from sklearn.datasets import load_iris\n",
        "from sklearn2pmml import sklearn2pmml, make_pmml_pipeline\n",
        "from tpot import TPOTClassifier\n",
        "\n",
        "iris = load_iris()\n",
        "\n",
        "classifier = TPOTClassifier(generations = 3, population_size = 11, random_state = 13, verbosity = 2)\n",
        "classifier.fit(iris.data, iris.target)\n",
        "\n",
        "pmml_pipeline = make_pmml_pipeline(classifier.fitted_pipeline_)\n",
        "pmml_pipeline.fit(x,y)\n",
        "sklearn2pmml(pmml_pipeline, \"TPOTIris.pmml\", with_repr = True)"
      ],
      "execution_count": 217,
      "outputs": [
        {
          "output_type": "display_data",
          "data": {
            "application/vnd.jupyter.widget-view+json": {
              "model_id": "b143e261486045dabf4497048e70ff7a",
              "version_minor": 0,
              "version_major": 2
            },
            "text/plain": [
              "HBox(children=(IntProgress(value=0, description='Optimization Progress', max=44, style=ProgressStyle(descripti…"
            ]
          },
          "metadata": {
            "tags": []
          }
        },
        {
          "output_type": "stream",
          "text": [
            "Generation 1 - Current best internal CV score: 0.9733333333333334\n",
            "Generation 2 - Current best internal CV score: 0.9800000000000001\n",
            "Generation 3 - Current best internal CV score: 0.9800000000000001\n",
            "\n",
            "Best pipeline: LogisticRegression(CombineDFs(input_matrix, input_matrix), C=15.0, dual=False, penalty=l2)\n"
          ],
          "name": "stdout"
        },
        {
          "output_type": "stream",
          "text": [
            "/usr/local/lib/python3.6/dist-packages/sklearn/base.py:197: FutureWarning: From version 0.24, get_params will raise an AttributeError if a parameter cannot be retrieved as an instance attribute. Previously it would return None.\n",
            "  FutureWarning)\n",
            "/usr/local/lib/python3.6/dist-packages/sklearn/linear_model/_logistic.py:940: ConvergenceWarning: lbfgs failed to converge (status=1):\n",
            "STOP: TOTAL NO. of ITERATIONS REACHED LIMIT.\n",
            "\n",
            "Increase the number of iterations (max_iter) or scale the data as shown in:\n",
            "    https://scikit-learn.org/stable/modules/preprocessing.html\n",
            "Please also refer to the documentation for alternative solver options:\n",
            "    https://scikit-learn.org/stable/modules/linear_model.html#logistic-regression\n",
            "  extra_warning_msg=_LOGISTIC_SOLVER_CONVERGENCE_MSG)\n"
          ],
          "name": "stderr"
        },
        {
          "output_type": "stream",
          "text": [
            "Standard output is empty\n",
            "Standard error:\n",
            "Apr 07, 2020 3:49:41 PM org.jpmml.sklearn.Main run\n",
            "INFO: Parsing PKL..\n",
            "Apr 07, 2020 3:49:41 PM org.jpmml.sklearn.Main run\n",
            "INFO: Parsed PKL in 33 ms.\n",
            "Apr 07, 2020 3:49:41 PM org.jpmml.sklearn.Main run\n",
            "INFO: Converting..\n",
            "Apr 07, 2020 3:49:41 PM org.jpmml.sklearn.Main run\n",
            "SEVERE: Failed to convert\n",
            "java.lang.IllegalArgumentException: Attribute 'sklearn.preprocessing._function_transformer.FunctionTransformer.func' has an unsupported value (Java class net.razorvine.pickle.objects.ClassDictConstructor)\n",
            "\tat org.jpmml.sklearn.CastFunction.apply(CastFunction.java:45)\n",
            "\tat org.jpmml.sklearn.PyClassDict.get(PyClassDict.java:82)\n",
            "\tat org.jpmml.sklearn.PyClassDict.getOptional(PyClassDict.java:92)\n",
            "\tat sklearn.preprocessing.FunctionTransformer.getFunc(FunctionTransformer.java:63)\n",
            "\tat sklearn.preprocessing.FunctionTransformer.encodeFeatures(FunctionTransformer.java:43)\n",
            "\tat sklearn.Transformer.updateAndEncodeFeatures(Transformer.java:118)\n",
            "\tat sklearn.pipeline.FeatureUnion.encodeFeatures(FeatureUnion.java:45)\n",
            "\tat sklearn.Transformer.updateAndEncodeFeatures(Transformer.java:118)\n",
            "\tat sklearn.Composite.encodeFeatures(Composite.java:129)\n",
            "\tat sklearn2pmml.pipeline.PMMLPipeline.encodePMML(PMMLPipeline.java:208)\n",
            "\tat org.jpmml.sklearn.Main.run(Main.java:228)\n",
            "\tat org.jpmml.sklearn.Main.main(Main.java:148)\n",
            "Caused by: java.lang.ClassCastException: Cannot cast net.razorvine.pickle.objects.ClassDictConstructor to numpy.core.UFunc\n",
            "\tat java.base/java.lang.Class.cast(Class.java:3605)\n",
            "\tat org.jpmml.sklearn.CastFunction.apply(CastFunction.java:43)\n",
            "\t... 11 more\n",
            "\n",
            "Exception in thread \"main\" java.lang.IllegalArgumentException: Attribute 'sklearn.preprocessing._function_transformer.FunctionTransformer.func' has an unsupported value (Java class net.razorvine.pickle.objects.ClassDictConstructor)\n",
            "\tat org.jpmml.sklearn.CastFunction.apply(CastFunction.java:45)\n",
            "\tat org.jpmml.sklearn.PyClassDict.get(PyClassDict.java:82)\n",
            "\tat org.jpmml.sklearn.PyClassDict.getOptional(PyClassDict.java:92)\n",
            "\tat sklearn.preprocessing.FunctionTransformer.getFunc(FunctionTransformer.java:63)\n",
            "\tat sklearn.preprocessing.FunctionTransformer.encodeFeatures(FunctionTransformer.java:43)\n",
            "\tat sklearn.Transformer.updateAndEncodeFeatures(Transformer.java:118)\n",
            "\tat sklearn.pipeline.FeatureUnion.encodeFeatures(FeatureUnion.java:45)\n",
            "\tat sklearn.Transformer.updateAndEncodeFeatures(Transformer.java:118)\n",
            "\tat sklearn.Composite.encodeFeatures(Composite.java:129)\n",
            "\tat sklearn2pmml.pipeline.PMMLPipeline.encodePMML(PMMLPipeline.java:208)\n",
            "\tat org.jpmml.sklearn.Main.run(Main.java:228)\n",
            "\tat org.jpmml.sklearn.Main.main(Main.java:148)\n",
            "Caused by: java.lang.ClassCastException: Cannot cast net.razorvine.pickle.objects.ClassDictConstructor to numpy.core.UFunc\n",
            "\tat java.base/java.lang.Class.cast(Class.java:3605)\n",
            "\tat org.jpmml.sklearn.CastFunction.apply(CastFunction.java:43)\n",
            "\t... 11 more\n",
            "\n"
          ],
          "name": "stdout"
        },
        {
          "output_type": "error",
          "ename": "RuntimeError",
          "evalue": "ignored",
          "traceback": [
            "\u001b[0;31m---------------------------------------------------------------------------\u001b[0m",
            "\u001b[0;31mRuntimeError\u001b[0m                              Traceback (most recent call last)",
            "\u001b[0;32m<ipython-input-217-b53e8c65c4c5>\u001b[0m in \u001b[0;36m<module>\u001b[0;34m()\u001b[0m\n\u001b[1;32m     10\u001b[0m \u001b[0mpmml_pipeline\u001b[0m \u001b[0;34m=\u001b[0m \u001b[0mmake_pmml_pipeline\u001b[0m\u001b[0;34m(\u001b[0m\u001b[0mclassifier\u001b[0m\u001b[0;34m.\u001b[0m\u001b[0mfitted_pipeline_\u001b[0m\u001b[0;34m)\u001b[0m\u001b[0;34m\u001b[0m\u001b[0;34m\u001b[0m\u001b[0m\n\u001b[1;32m     11\u001b[0m \u001b[0mpmml_pipeline\u001b[0m\u001b[0;34m.\u001b[0m\u001b[0mfit\u001b[0m\u001b[0;34m(\u001b[0m\u001b[0mx\u001b[0m\u001b[0;34m,\u001b[0m\u001b[0my\u001b[0m\u001b[0;34m)\u001b[0m\u001b[0;34m\u001b[0m\u001b[0;34m\u001b[0m\u001b[0m\n\u001b[0;32m---> 12\u001b[0;31m \u001b[0msklearn2pmml\u001b[0m\u001b[0;34m(\u001b[0m\u001b[0mpmml_pipeline\u001b[0m\u001b[0;34m,\u001b[0m \u001b[0;34m\"TPOTIris.pmml\"\u001b[0m\u001b[0;34m,\u001b[0m \u001b[0mwith_repr\u001b[0m \u001b[0;34m=\u001b[0m \u001b[0;32mTrue\u001b[0m\u001b[0;34m)\u001b[0m\u001b[0;34m\u001b[0m\u001b[0;34m\u001b[0m\u001b[0m\n\u001b[0m",
            "\u001b[0;32m/usr/local/lib/python3.6/dist-packages/sklearn2pmml/__init__.py\u001b[0m in \u001b[0;36msklearn2pmml\u001b[0;34m(pipeline, pmml, user_classpath, with_repr, debug, java_encoding)\u001b[0m\n\u001b[1;32m    264\u001b[0m                                 \u001b[0mprint\u001b[0m\u001b[0;34m(\u001b[0m\u001b[0;34m\"Standard error is empty\"\u001b[0m\u001b[0;34m)\u001b[0m\u001b[0;34m\u001b[0m\u001b[0;34m\u001b[0m\u001b[0m\n\u001b[1;32m    265\u001b[0m                 \u001b[0;32mif\u001b[0m \u001b[0mretcode\u001b[0m\u001b[0;34m:\u001b[0m\u001b[0;34m\u001b[0m\u001b[0;34m\u001b[0m\u001b[0m\n\u001b[0;32m--> 266\u001b[0;31m                         \u001b[0;32mraise\u001b[0m \u001b[0mRuntimeError\u001b[0m\u001b[0;34m(\u001b[0m\u001b[0;34m\"The JPMML-SkLearn conversion application has failed. The Java executable should have printed more information about the failure into its standard output and/or standard error streams\"\u001b[0m\u001b[0;34m)\u001b[0m\u001b[0;34m\u001b[0m\u001b[0;34m\u001b[0m\u001b[0m\n\u001b[0m\u001b[1;32m    267\u001b[0m         \u001b[0;32mfinally\u001b[0m\u001b[0;34m:\u001b[0m\u001b[0;34m\u001b[0m\u001b[0;34m\u001b[0m\u001b[0m\n\u001b[1;32m    268\u001b[0m                 \u001b[0;32mif\u001b[0m \u001b[0mdebug\u001b[0m\u001b[0;34m:\u001b[0m\u001b[0;34m\u001b[0m\u001b[0;34m\u001b[0m\u001b[0m\n",
            "\u001b[0;31mRuntimeError\u001b[0m: The JPMML-SkLearn conversion application has failed. The Java executable should have printed more information about the failure into its standard output and/or standard error streams"
          ]
        }
      ]
    },
    {
      "cell_type": "markdown",
      "metadata": {
        "id": "6Y0rhOtIVfR5",
        "colab_type": "text"
      },
      "source": [
        "https://openscoring.io/blog/2019/06/10/converting_sklearn_tpot_pipeline_pmml/"
      ]
    }
  ]
}